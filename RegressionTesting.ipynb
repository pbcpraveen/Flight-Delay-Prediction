{
  "nbformat": 4,
  "nbformat_minor": 0,
  "metadata": {
    "colab": {
      "name": "RegressionTesting.ipynb",
      "version": "0.3.2",
      "provenance": []
    },
    "kernelspec": {
      "name": "python3",
      "display_name": "Python 3"
    }
  },
  "cells": [
    {
      "cell_type": "code",
      "metadata": {
        "id": "hJIcyQtv7H3q",
        "colab_type": "code",
        "outputId": "1c47f52a-209f-4c79-cca5-12001fa06342",
        "colab": {
          "base_uri": "https://localhost:8080/",
          "height": 160
        }
      },
      "source": [
        "import numpy as np\n",
        "import pandas as pd\n",
        "from imblearn.over_sampling import RandomOverSampler as ROS\n",
        "from imblearn.over_sampling import SMOTE as SMO\n",
        "from google.colab import drive\n",
        "drive.mount('/content/gdrive')\n"
      ],
      "execution_count": 0,
      "outputs": [
        {
          "output_type": "stream",
          "text": [
            "/usr/local/lib/python3.6/dist-packages/sklearn/externals/six.py:31: DeprecationWarning: The module is deprecated in version 0.21 and will be removed in version 0.23 since we've dropped support for Python 2.7. Please rely on the official version of six (https://pypi.org/project/six/).\n",
            "  \"(https://pypi.org/project/six/).\", DeprecationWarning)\n"
          ],
          "name": "stderr"
        },
        {
          "output_type": "stream",
          "text": [
            "Go to this URL in a browser: https://accounts.google.com/o/oauth2/auth?client_id=947318989803-6bn6qk8qdgf4n4g3pfee6491hc0brc4i.apps.googleusercontent.com&redirect_uri=urn%3Aietf%3Awg%3Aoauth%3A2.0%3Aoob&scope=email%20https%3A%2F%2Fwww.googleapis.com%2Fauth%2Fdocs.test%20https%3A%2F%2Fwww.googleapis.com%2Fauth%2Fdrive%20https%3A%2F%2Fwww.googleapis.com%2Fauth%2Fdrive.photos.readonly%20https%3A%2F%2Fwww.googleapis.com%2Fauth%2Fpeopleapi.readonly&response_type=code\n",
            "\n",
            "Enter your authorization code:\n",
            "··········\n",
            "Mounted at /content/gdrive\n"
          ],
          "name": "stdout"
        }
      ]
    },
    {
      "cell_type": "code",
      "metadata": {
        "id": "DDAc5Y0_7aRC",
        "colab_type": "code",
        "outputId": "6994494e-eaeb-452a-9e89-8e222a104e05",
        "colab": {
          "base_uri": "https://localhost:8080/",
          "height": 72
        }
      },
      "source": [
        "train =pd.read_csv('/content/gdrive/My Drive/ML/Training_x_ad.csv',sep='\\t', encoding='utf-8')\n",
        "test = pd.read_csv('/content/gdrive/My Drive/ML/Testing_x_ad.csv',sep='\\t', encoding='utf-8')\n",
        "data = pd.concat([train,test],axis = 0)\n",
        "data = data.reset_index()\n",
        "data = data.drop(columns = ['index'])\n",
        "data = data[data['ArrDel15']==1]\n",
        "data = data.reset_index()\n",
        "data = data.drop(columns = ['index'])\n",
        "data = data.drop(columns = ['Unnamed: 0'])\n",
        "x_tr = ['Quarter', 'Month', 'DayofMonth', 'DayOfWeek','CRSDepTime',\n",
        "        'Origin',  'Dest','year','DepDelay',\n",
        "       'DewPointC', 'DewPointF', 'FeelsLikeC', 'FeelsLikeF', 'HeatIndexC',\n",
        "       'HeatIndexF', 'WindChillC', 'WindChillF', 'WindGustKmph',\n",
        "       'WindGustMiles', 'cloudcover', 'humidity', 'precipMM', 'pressure',\n",
        "       'tempC', 'tempF', 'time', 'visibility', 'weatherCode', 'winddir16Point',\n",
        "       'winddirDegree', 'windspeedKmph', 'windspeedMiles']\n",
        "X= data[x_tr]\n",
        "def func(row):\n",
        "    if(row['year']==2016):\n",
        "      row['year'] = 1  # lable encoding the year values\n",
        "    else:\n",
        "      row['year'] = 2  \n",
        "    return row\n",
        "X= X.apply(func, axis=1)\n",
        "x_val = X.iloc[:,:].values\n",
        "from sklearn.preprocessing import LabelEncoder, OneHotEncoder\n",
        "enc  = LabelEncoder()\n",
        "enc.fit(x_val[:,6].reshape(-1, 1) )\n",
        "c1=['d1']\n",
        "temp = pd.DataFrame(enc.transform(x_val[:,5]),columns = c1)\n",
        "X = pd.concat([X,temp],axis=1)\n",
        "X = X.drop(columns = ['Origin'])\n",
        "c2=['a1']\n",
        "temp = pd.DataFrame(enc.transform(x_val[:,6]),columns = c2)\n",
        "X = pd.concat([X,temp],axis=1)\n",
        "X = X.drop(columns = ['Dest'])\n",
        "X = X.drop(columns = ['winddir16Point'])\n",
        "X = X.drop(columns = ['DewPointF','FeelsLikeC','FeelsLikeF','HeatIndexF','WindChillF','WindGustMiles','tempF','windspeedMiles','Quarter','time'])\n",
        "x_val = X.iloc[:,:].values\n",
        "Y = pd.DataFrame(data['ArrDelayMinutes'])\n",
        "y_val = Y.iloc[:,:].values\n",
        "from sklearn.model_selection import train_test_split \n",
        "X_train, X_test, y_train, y_test = train_test_split(x_val, y_val, test_size=0.33, random_state=42)\n"
      ],
      "execution_count": 0,
      "outputs": [
        {
          "output_type": "stream",
          "text": [
            "/usr/local/lib/python3.6/dist-packages/sklearn/preprocessing/label.py:219: DataConversionWarning: A column-vector y was passed when a 1d array was expected. Please change the shape of y to (n_samples, ), for example using ravel().\n",
            "  y = column_or_1d(y, warn=True)\n"
          ],
          "name": "stderr"
        }
      ]
    },
    {
      "cell_type": "code",
      "metadata": {
        "id": "yfFUriIw8Bgz",
        "colab_type": "code",
        "outputId": "855e1787-4a37-4771-c84b-151785f77285",
        "colab": {
          "base_uri": "https://localhost:8080/",
          "height": 404
        }
      },
      "source": [
        "from sklearn.linear_model import LinearRegression\n",
        "reg = LinearRegression()\n",
        "reg.fit(X_train,y_train)\n",
        "for i in zip(list(reg.coef_)[0],list(X.keys())):\n",
        "  print(i)\n",
        "print(reg.intercept_)"
      ],
      "execution_count": 0,
      "outputs": [
        {
          "output_type": "stream",
          "text": [
            "(-0.006812083381533702, 'Month')\n",
            "(-0.0034789018525027138, 'DayofMonth')\n",
            "(-0.05507417836949929, 'DayOfWeek')\n",
            "(-0.0040481825908498395, 'CRSDepTime')\n",
            "(0.5690953027775202, 'year')\n",
            "(0.9136164024656619, 'DepDelay')\n",
            "(0.05800338363798834, 'DewPointC')\n",
            "(0.42370404675026996, 'HeatIndexC')\n",
            "(-0.30834591595984, 'WindChillC')\n",
            "(0.07259357005578877, 'WindGustKmph')\n",
            "(0.010111906112561632, 'cloudcover')\n",
            "(-0.02269898060895811, 'humidity')\n",
            "(0.15146065268810066, 'precipMM')\n",
            "(-0.10704083520434089, 'pressure')\n",
            "(-0.14266929437764336, 'tempC')\n",
            "(-0.059634831690143, 'visibility')\n",
            "(0.004481297733050837, 'weatherCode')\n",
            "(-0.0015015805925813717, 'winddirDegree')\n",
            "(-0.06081045967945053, 'windspeedKmph')\n",
            "(-0.06274468722940482, 'd1')\n",
            "(0.18954954367587437, 'a1')\n",
            "[123.22266788]\n"
          ],
          "name": "stdout"
        }
      ]
    },
    {
      "cell_type": "code",
      "metadata": {
        "id": "BtIj1cKQ8DXx",
        "colab_type": "code",
        "colab": {}
      },
      "source": [
        "x_val1 = X[y_val>2000].iloc[:,:].values\n",
        "y_val1 = Y[y_val>2000].iloc[:,:].values"
      ],
      "execution_count": 0,
      "outputs": []
    },
    {
      "cell_type": "code",
      "metadata": {
        "id": "DLLHUeyZ8WS0",
        "colab_type": "code",
        "outputId": "da275d94-6ba0-4bcd-9900-85a2e6c62055",
        "colab": {
          "base_uri": "https://localhost:8080/",
          "height": 70
        }
      },
      "source": [
        "from sklearn.metrics import mean_squared_error\n",
        "import math\n",
        "mse = mean_squared_error(y_val1, reg.predict(x_val1))\n",
        "print(\"MSE: %.4f\" % mse)\n",
        "print(\"RMSE: %.4f\" %math.sqrt(mse))\n",
        "from sklearn.metrics import mean_absolute_error\n",
        "mae = mean_absolute_error(y_val1, reg.predict(x_val1))\n",
        "print(\"MAE: %.4f\" % mae)"
      ],
      "execution_count": 0,
      "outputs": [
        {
          "output_type": "stream",
          "text": [
            "MSE: 26194.1169\n",
            "RMSE: 161.8460\n",
            "MAE: 161.7119\n"
          ],
          "name": "stdout"
        }
      ]
    },
    {
      "cell_type": "code",
      "metadata": {
        "id": "I4--Z1GO9FHX",
        "colab_type": "code",
        "colab": {}
      },
      "source": [
        "x_val2 = X[y_val>1000].iloc[:,:].values\n",
        "y_val2 = Y[y_val>1000].iloc[:,:].values"
      ],
      "execution_count": 0,
      "outputs": []
    },
    {
      "cell_type": "code",
      "metadata": {
        "id": "-T9la08C9ORx",
        "colab_type": "code",
        "outputId": "16aea101-18fc-455d-cc9f-be7184b919ad",
        "colab": {
          "base_uri": "https://localhost:8080/",
          "height": 70
        }
      },
      "source": [
        "from sklearn.metrics import mean_squared_error\n",
        "import math\n",
        "mse = mean_squared_error(y_val2, reg.predict(x_val2))\n",
        "print(\"MSE: %.4f\" % mse)\n",
        "print(\"RMSE: %.4f\" %math.sqrt(mse))\n",
        "from sklearn.metrics import mean_absolute_error\n",
        "mae = mean_absolute_error(y_val2, reg.predict(x_val2))\n",
        "print(\"MAE: %.4f\" % mae)"
      ],
      "execution_count": 0,
      "outputs": [
        {
          "output_type": "stream",
          "text": [
            "MSE: 9286.1945\n",
            "RMSE: 96.3649\n",
            "MAE: 92.4357\n"
          ],
          "name": "stdout"
        }
      ]
    },
    {
      "cell_type": "code",
      "metadata": {
        "id": "3rOvdzUA9Vh9",
        "colab_type": "code",
        "colab": {}
      },
      "source": [
        "x_val3 = X[y_val<200].iloc[:,:].values\n",
        "y_val3 = Y[y_val<200].iloc[:,:].values"
      ],
      "execution_count": 0,
      "outputs": []
    },
    {
      "cell_type": "code",
      "metadata": {
        "id": "kqKJv25j9sEF",
        "colab_type": "code",
        "outputId": "e75830dc-9d4d-469a-c7f4-3b1cc002fe54",
        "colab": {
          "base_uri": "https://localhost:8080/",
          "height": 70
        }
      },
      "source": [
        "from sklearn.metrics import mean_squared_error\n",
        "import math\n",
        "mse = mean_squared_error(y_val3, reg.predict(x_val3))\n",
        "print(\"MSE: %.4f\" % mse)\n",
        "print(\"RMSE: %.4f\" %math.sqrt(mse))\n",
        "from sklearn.metrics import mean_absolute_error\n",
        "mae = mean_absolute_error(y_val3, reg.predict(x_val3))\n",
        "print(\"MAE: %.4f\" % mae)"
      ],
      "execution_count": 0,
      "outputs": [
        {
          "output_type": "stream",
          "text": [
            "MSE: 379.2796\n",
            "RMSE: 19.4751\n",
            "MAE: 14.7297\n"
          ],
          "name": "stdout"
        }
      ]
    },
    {
      "cell_type": "code",
      "metadata": {
        "id": "unbemXot95BE",
        "colab_type": "code",
        "colab": {}
      },
      "source": [
        "x_val4 = X[y_val<100].iloc[:,:].values\n",
        "y_val4 = Y[y_val<100].iloc[:,:].values"
      ],
      "execution_count": 0,
      "outputs": []
    },
    {
      "cell_type": "code",
      "metadata": {
        "id": "1b9Vhk4l_NP0",
        "colab_type": "code",
        "outputId": "3cb2f659-e5c2-4ac4-ff30-5a2f050300ea",
        "colab": {
          "base_uri": "https://localhost:8080/",
          "height": 70
        }
      },
      "source": [
        "from sklearn.metrics import mean_squared_error\n",
        "import math\n",
        "mse = mean_squared_error(y_val4, reg.predict(x_val4))\n",
        "print(\"MSE: %.4f\" % mse)\n",
        "print(\"RMSE: %.4f\" %math.sqrt(mse))\n",
        "from sklearn.metrics import mean_absolute_error\n",
        "mae = mean_absolute_error(y_val4, reg.predict(x_val4))\n",
        "print(\"MAE: %.4f\" % mae)"
      ],
      "execution_count": 0,
      "outputs": [
        {
          "output_type": "stream",
          "text": [
            "MSE: 329.5595\n",
            "RMSE: 18.1538\n",
            "MAE: 14.3314\n"
          ],
          "name": "stdout"
        }
      ]
    },
    {
      "cell_type": "code",
      "metadata": {
        "id": "t4A4jnC2_ilX",
        "colab_type": "code",
        "colab": {}
      },
      "source": [
        ""
      ],
      "execution_count": 0,
      "outputs": []
    }
  ]
}