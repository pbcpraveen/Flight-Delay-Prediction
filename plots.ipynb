{
  "nbformat": 4,
  "nbformat_minor": 0,
  "metadata": {
    "colab": {
      "name": "plots.ipynb",
      "version": "0.3.2",
      "provenance": [],
      "collapsed_sections": []
    },
    "kernelspec": {
      "name": "python3",
      "display_name": "Python 3"
    },
    "accelerator": "GPU"
  },
  "cells": [
    {
      "cell_type": "code",
      "metadata": {
        "id": "jwCGnB7dWKUt",
        "colab_type": "code",
        "outputId": "9505deee-3bf8-43d2-9c38-522d2cb3235a",
        "colab": {
          "base_uri": "https://localhost:8080/",
          "height": 72
        }
      },
      "source": [
        "import numpy as np\n",
        "import pandas as pd\n",
        "from imblearn.over_sampling import RandomOverSampler as ROS\n",
        "from imblearn.over_sampling import SMOTE as SMO"
      ],
      "execution_count": 0,
      "outputs": [
        {
          "output_type": "stream",
          "text": [
            "/usr/local/lib/python3.6/dist-packages/sklearn/externals/six.py:31: DeprecationWarning: The module is deprecated in version 0.21 and will be removed in version 0.23 since we've dropped support for Python 2.7. Please rely on the official version of six (https://pypi.org/project/six/).\n",
            "  \"(https://pypi.org/project/six/).\", DeprecationWarning)\n"
          ],
          "name": "stderr"
        }
      ]
    },
    {
      "cell_type": "code",
      "metadata": {
        "id": "A_s-SEe7Wart",
        "colab_type": "code",
        "outputId": "1368abd0-a5c5-482d-bf13-9c08e727ea16",
        "colab": {
          "base_uri": "https://localhost:8080/",
          "height": 125
        }
      },
      "source": [
        "from google.colab import drive\n",
        "drive.mount('/content/gdrive')\n"
      ],
      "execution_count": 0,
      "outputs": [
        {
          "output_type": "stream",
          "text": [
            "Go to this URL in a browser: https://accounts.google.com/o/oauth2/auth?client_id=947318989803-6bn6qk8qdgf4n4g3pfee6491hc0brc4i.apps.googleusercontent.com&redirect_uri=urn%3Aietf%3Awg%3Aoauth%3A2.0%3Aoob&scope=email%20https%3A%2F%2Fwww.googleapis.com%2Fauth%2Fdocs.test%20https%3A%2F%2Fwww.googleapis.com%2Fauth%2Fdrive%20https%3A%2F%2Fwww.googleapis.com%2Fauth%2Fdrive.photos.readonly%20https%3A%2F%2Fwww.googleapis.com%2Fauth%2Fpeopleapi.readonly&response_type=code\n",
            "\n",
            "Enter your authorization code:\n",
            "··········\n",
            "Mounted at /content/gdrive\n"
          ],
          "name": "stdout"
        }
      ]
    },
    {
      "cell_type": "code",
      "metadata": {
        "id": "CcUi-KGjWjMB",
        "colab_type": "code",
        "colab": {}
      },
      "source": [
        "train =pd.read_csv('/content/gdrive/My Drive/ML/Training_x.csv',sep='\\t', encoding='utf-8')\n",
        "test = pd.read_csv('/content/gdrive/My Drive/ML/Testing_x.csv',sep='\\t', encoding='utf-8')\n"
      ],
      "execution_count": 0,
      "outputs": []
    },
    {
      "cell_type": "code",
      "metadata": {
        "id": "jAszDh-eAD8c",
        "colab_type": "code",
        "outputId": "1b0bce7a-a960-4250-cbbd-8c6ffa877e0d",
        "colab": {
          "base_uri": "https://localhost:8080/",
          "height": 844
        }
      },
      "source": [
        "train.info()"
      ],
      "execution_count": 0,
      "outputs": [
        {
          "output_type": "stream",
          "text": [
            "<class 'pandas.core.frame.DataFrame'>\n",
            "RangeIndex: 1467214 entries, 0 to 1467213\n",
            "Data columns (total 42 columns):\n",
            "Unnamed: 0         1467214 non-null int64\n",
            "Quarter            1467214 non-null float64\n",
            "Month              1467214 non-null int64\n",
            "DayofMonth         1467214 non-null int64\n",
            "DayOfWeek          1467214 non-null float64\n",
            "FlightNum          1467214 non-null float64\n",
            "Origin             1467214 non-null object\n",
            "DestAirportID      1467214 non-null float64\n",
            "Dest               1467214 non-null object\n",
            "CRSDepTime         1467214 non-null int64\n",
            "DepTime            1467214 non-null float64\n",
            "DepDelay           1467214 non-null float64\n",
            "DepDelayMinutes    1467214 non-null float64\n",
            "DepDel15           1467214 non-null float64\n",
            "CRSArrTime         1467214 non-null float64\n",
            "ArrTime            1467214 non-null float64\n",
            "ArrDelayMinutes    1467214 non-null float64\n",
            "ArrDel15           1467214 non-null float64\n",
            "year               1467214 non-null int64\n",
            "DewPointC          1467214 non-null float64\n",
            "DewPointF          1467214 non-null float64\n",
            "FeelsLikeC         1467214 non-null float64\n",
            "FeelsLikeF         1467214 non-null float64\n",
            "HeatIndexC         1467214 non-null float64\n",
            "HeatIndexF         1467214 non-null float64\n",
            "WindChillC         1467214 non-null float64\n",
            "WindChillF         1467214 non-null float64\n",
            "WindGustKmph       1467214 non-null float64\n",
            "WindGustMiles      1467214 non-null float64\n",
            "cloudcover         1467214 non-null float64\n",
            "humidity           1467214 non-null float64\n",
            "precipMM           1467214 non-null float64\n",
            "pressure           1467214 non-null float64\n",
            "tempC              1467214 non-null float64\n",
            "tempF              1467214 non-null float64\n",
            "time               1467214 non-null float64\n",
            "visibility         1467214 non-null float64\n",
            "weatherCode        1467214 non-null float64\n",
            "winddir16Point     1467214 non-null object\n",
            "winddirDegree      1467214 non-null float64\n",
            "windspeedKmph      1467214 non-null float64\n",
            "windspeedMiles     1467214 non-null float64\n",
            "dtypes: float64(34), int64(5), object(3)\n",
            "memory usage: 470.1+ MB\n"
          ],
          "name": "stdout"
        }
      ]
    },
    {
      "cell_type": "code",
      "metadata": {
        "id": "k3i5zdT9WmUn",
        "colab_type": "code",
        "colab": {}
      },
      "source": [
        "data = pd.concat([train,test],axis = 0)\n",
        "data = data.reset_index()\n",
        "data = data.drop(columns = ['index'])"
      ],
      "execution_count": 0,
      "outputs": []
    },
    {
      "cell_type": "code",
      "metadata": {
        "id": "iHxE2COlJ6CL",
        "colab_type": "code",
        "colab": {}
      },
      "source": [
        "data['isDelay'] = 0\n",
        "\n",
        "def func(row):\n",
        "    if row['DepDel15']>0:\n",
        "        return 1\n",
        "    else:\n",
        "        return 0\n",
        "\n",
        "data['isDelay'] = data.apply(func, axis=1)\n"
      ],
      "execution_count": 0,
      "outputs": []
    },
    {
      "cell_type": "code",
      "metadata": {
        "id": "8rihPRd8AzxP",
        "colab_type": "code",
        "outputId": "d7c8a58c-42c5-48ef-a68f-67698b822bf9",
        "colab": {
          "base_uri": "https://localhost:8080/",
          "height": 273
        }
      },
      "source": [
        "import matplotlib.pyplot as plt\n",
        "\n",
        "# Data to plot\n",
        "labels = ['Delayed', 'NotDelayed']\n",
        "dl = (len(data[data['isDelay']==1])/len(data))*360\n",
        "sizes = [dl,360-dl]\n",
        "colors = [ 'yellowgreen', 'lightskyblue']\n",
        "explode = (0.1, 0)  # explode 1st slice\n",
        "\n",
        "# Plot\n",
        "plt.pie(sizes, explode=explode, labels=labels, colors=colors,\n",
        "autopct='%1.1f%%', shadow=True, startangle=140)\n",
        "\n",
        "plt.axis('equal')\n",
        "plt.show()\n",
        "plt.savefig('/content/gdrive/My Drive/ML/DepDel15.png')"
      ],
      "execution_count": 0,
      "outputs": [
        {
          "output_type": "display_data",
          "data": {
            "image/png": "[encoded data removed]",
            "text/plain": [
              "<Figure size 432x288 with 1 Axes>"
            ]
          },
          "metadata": {
            "tags": []
          }
        },
        {
          "output_type": "display_data",
          "data": {
            "text/plain": [
              "<Figure size 432x288 with 0 Axes>"
            ]
          },
          "metadata": {
            "tags": []
          }
        }
      ]
    },
    {
      "cell_type": "code",
      "metadata": {
        "id": "c1B3f5uyCULI",
        "colab_type": "code",
        "outputId": "3bc675f1-91e4-4ec0-a9f0-5b5c434c5691",
        "colab": {
          "base_uri": "https://localhost:8080/",
          "height": 273
        }
      },
      "source": [
        "import matplotlib.pyplot as plt\n",
        "\n",
        "# Data to plot\n",
        "labels = ['Delayed', 'NotDelayed']\n",
        "dl = (len(data[data['DepDelay']>=1])/len(data))*360\n",
        "sizes = [dl,360-dl]\n",
        "colors = [ 'yellowgreen', 'lightskyblue']\n",
        "explode = (0.1, 0)  # explode 1st slice\n",
        "\n",
        "# Plot\n",
        "plt.pie(sizes, explode=explode, labels=labels, colors=colors,\n",
        "autopct='%1.1f%%', shadow=True, startangle=140)\n",
        "\n",
        "plt.axis('equal')\n",
        "plt.show()\n",
        "plt.savefig('/content/gdrive/My Drive/ML/DepDel.png')"
      ],
      "execution_count": 0,
      "outputs": [
        {
          "output_type": "display_data",
          "data": {
            "image/png": "[encoded data removed]",
            "text/plain": [
              "<Figure size 432x288 with 1 Axes>"
            ]
          },
          "metadata": {
            "tags": []
          }
        },
        {
          "output_type": "display_data",
          "data": {
            "text/plain": [
              "<Figure size 432x288 with 0 Axes>"
            ]
          },
          "metadata": {
            "tags": []
          }
        }
      ]
    },
    {
      "cell_type": "code",
      "metadata": {
        "id": "Kxni2Y6k39-c",
        "colab_type": "code",
        "outputId": "f3db0dcb-ecae-4199-f57b-786d21d05a97",
        "colab": {
          "base_uri": "https://localhost:8080/",
          "height": 273
        }
      },
      "source": [
        "import matplotlib.pyplot as plt\n",
        "\n",
        "# Data to plot\n",
        "labels = ['Delayed', 'NotDelayed']\n",
        "dl = (len(data[data['ArrDelayMinutes']>=1])/len(data))*360\n",
        "sizes = [dl,360-dl]\n",
        "colors = [ 'yellowgreen', 'lightskyblue']\n",
        "explode = (0.1, 0)  # explode 1st slice\n",
        "\n",
        "# Plot\n",
        "plt.pie(sizes, explode=explode, labels=labels, colors=colors,\n",
        "autopct='%1.1f%%', shadow=True, startangle=140)\n",
        "\n",
        "plt.axis('equal')\n",
        "plt.show()\n",
        "plt.savefig('/content/gdrive/My Drive/ML/ArrDel.png')"
      ],
      "execution_count": 0,
      "outputs": [
        {
          "output_type": "display_data",
          "data": {
            "image/png": "[encoded data removed]",
            "text/plain": [
              "<Figure size 432x288 with 1 Axes>"
            ]
          },
          "metadata": {
            "tags": []
          }
        },
        {
          "output_type": "display_data",
          "data": {
            "text/plain": [
              "<Figure size 432x288 with 0 Axes>"
            ]
          },
          "metadata": {
            "tags": []
          }
        }
      ]
    },
    {
      "cell_type": "code",
      "metadata": {
        "id": "_zoGCmG7CsIs",
        "colab_type": "code",
        "outputId": "26436c24-c313-4af7-f2cd-9c9cc2215e10",
        "colab": {
          "base_uri": "https://localhost:8080/",
          "height": 273
        }
      },
      "source": [
        "import matplotlib.pyplot as plt\n",
        "\n",
        "# Data to plot\n",
        "labels = ['Delayed', 'NotDelayed']\n",
        "dl = (len(data[data['ArrDel15']>=1])/len(data))*360\n",
        "sizes = [dl,360-dl]\n",
        "colors = [ 'yellowgreen', 'lightskyblue']\n",
        "explode = (0.1, 0)  # explode 1st slice\n",
        "\n",
        "# Plot\n",
        "plt.pie(sizes, explode=explode, labels=labels, colors=colors,\n",
        "autopct='%1.1f%%', shadow=True, startangle=140)\n",
        "\n",
        "plt.axis('equal')\n",
        "plt.show()\n",
        "plt.savefig('/content/gdrive/My Drive/ML/ArrDel15.png')"
      ],
      "execution_count": 0,
      "outputs": [
        {
          "output_type": "display_data",
          "data": {
            "image/png": "[encoded data removed]",
            "text/plain": [
              "<Figure size 432x288 with 1 Axes>"
            ]
          },
          "metadata": {
            "tags": []
          }
        },
        {
          "output_type": "display_data",
          "data": {
            "text/plain": [
              "<Figure size 432x288 with 0 Axes>"
            ]
          },
          "metadata": {
            "tags": []
          }
        }
      ]
    },
    {
      "cell_type": "code",
      "metadata": {
        "id": "unBtcmQYYPhK",
        "colab_type": "code",
        "outputId": "3c0e4c78-2485-4d3d-ae31-8eb3512544d0",
        "colab": {
          "base_uri": "https://localhost:8080/",
          "height": 72
        }
      },
      "source": [
        "x_tr = ['Quarter', 'Month', 'DayofMonth', 'DayOfWeek','CRSDepTime',\n",
        "       'FlightNum', 'Origin', 'DestAirportID', 'Dest','year',\n",
        "       'DewPointC', 'DewPointF', 'FeelsLikeC', 'FeelsLikeF', 'HeatIndexC',\n",
        "       'HeatIndexF', 'WindChillC', 'WindChillF', 'WindGustKmph',\n",
        "       'WindGustMiles', 'cloudcover', 'humidity', 'precipMM', 'pressure',\n",
        "       'tempC', 'tempF', 'time', 'visibility', 'weatherCode', 'winddir16Point',\n",
        "       'winddirDegree', 'windspeedKmph', 'windspeedMiles']\n",
        "X= data[x_tr]\n",
        "x_val = data[x_tr].iloc[:,:].values\n",
        "from sklearn.preprocessing import LabelEncoder, OneHotEncoder\n",
        "enc  = LabelEncoder()\n",
        "enc.fit(x_val[:,8].reshape(-1, 1) )\n",
        "c1=['d1']\n",
        "temp = pd.DataFrame(enc.transform(x_val[:,6]),columns = c1)\n",
        "X = pd.concat([X,temp],axis=1)\n",
        "X = X.drop(columns = ['Origin'])\n",
        "c2=['a1']\n",
        "temp = pd.DataFrame(enc.transform(x_val[:,8]),columns = c2)\n",
        "X = pd.concat([X,temp],axis=1)\n",
        "X = X.drop(columns = ['Dest'])\n",
        "X = X.drop(columns = ['winddir16Point'])\n",
        "X = X.drop(columns = ['DewPointF','FeelsLikeC','FeelsLikeF','HeatIndexF','WindChillF','WindGustMiles','tempF','windspeedMiles','Quarter'])\n",
        "x_val = X.iloc[:,:].values\n",
        "y = data['isDelay']\n",
        "y_val  = y.iloc[:].values"
      ],
      "execution_count": 0,
      "outputs": [
        {
          "output_type": "stream",
          "text": [
            "/usr/local/lib/python3.6/dist-packages/sklearn/preprocessing/label.py:219: DataConversionWarning: A column-vector y was passed when a 1d array was expected. Please change the shape of y to (n_samples, ), for example using ravel().\n",
            "  y = column_or_1d(y, warn=True)\n"
          ],
          "name": "stderr"
        }
      ]
    },
    {
      "cell_type": "code",
      "metadata": {
        "id": "mnUXBcsLWs43",
        "colab_type": "code",
        "colab": {}
      },
      "source": [
        "sampler = SMO()"
      ],
      "execution_count": 0,
      "outputs": []
    },
    {
      "cell_type": "code",
      "metadata": {
        "id": "AUWwuBIqXqef",
        "colab_type": "code",
        "colab": {}
      },
      "source": [
        "x_val,y_val =  sampler.fit_resample(x_val,y_val)\n"
      ],
      "execution_count": 0,
      "outputs": []
    },
    {
      "cell_type": "code",
      "metadata": {
        "id": "McbGB5AwDpei",
        "colab_type": "code",
        "outputId": "fc808103-ba2b-4526-e453-e2176680df3c",
        "colab": {
          "base_uri": "https://localhost:8080/",
          "height": 382
        }
      },
      "source": [
        "import matplotlib.pyplot as plt\n",
        "\n",
        "# Data to plot\n",
        "fig, ax = plt.subplots(figsize=(9,6))\n",
        "labels = ['Delayed', 'NotDelayed']\n",
        "dl = (sum(y_val)/len(y_val))*360\n",
        "sizes = [dl,360-dl]\n",
        "colors = [ 'yellowgreen', 'lightskyblue']\n",
        "explode = (0.1, 0)  # explode 1st slice\n",
        "\n",
        "# Plot\n",
        "pt = plt.pie(sizes, explode=explode, labels=labels, colors=colors,\n",
        "autopct='%1.1f%%', shadow=True, startangle=140)\n",
        "\n",
        "plt.axis('equal')\n",
        "plt.show()\n",
        "pt = pt[0][0].get_figure()\n",
        "plt.savefig('/content/gdrive/My Drive/ML/DepDel15_afterSampling.png', dpi=72, bbox_inches='tight')\n"
      ],
      "execution_count": 0,
      "outputs": [
        {
          "output_type": "display_data",
          "data": {
            "image/png": "[encoded data removed]",
            "text/plain": [
              "<Figure size 648x432 with 1 Axes>"
            ]
          },
          "metadata": {
            "tags": []
          }
        },
        {
          "output_type": "display_data",
          "data": {
            "text/plain": [
              "<Figure size 432x288 with 0 Axes>"
            ]
          },
          "metadata": {
            "tags": []
          }
        }
      ]
    },
    {
      "cell_type": "code",
      "metadata": {
        "id": "e1z0b_yzObnS",
        "colab_type": "code",
        "colab": {}
      },
      "source": [
        "del X\n",
        "del y\n",
        "del train\n",
        "del test\n"
      ],
      "execution_count": 0,
      "outputs": []
    },
    {
      "cell_type": "code",
      "metadata": {
        "id": "oOa3X_OBFnYG",
        "colab_type": "code",
        "colab": {}
      },
      "source": [
        "dep = data['DepDelayMinutes'].iloc[:].values"
      ],
      "execution_count": 0,
      "outputs": []
    },
    {
      "cell_type": "code",
      "metadata": {
        "id": "FZlKqnqHF1Jd",
        "colab_type": "code",
        "colab": {}
      },
      "source": [
        "dep = dep[dep>0]"
      ],
      "execution_count": 0,
      "outputs": []
    },
    {
      "cell_type": "code",
      "metadata": {
        "id": "O8ZLdRwgGC0Z",
        "colab_type": "code",
        "outputId": "b1aa8be2-2afa-438d-c9c9-8a1a80816501",
        "colab": {
          "base_uri": "https://localhost:8080/",
          "height": 34
        }
      },
      "source": [
        "np.mean(dep)"
      ],
      "execution_count": 0,
      "outputs": [
        {
          "output_type": "execute_result",
          "data": {
            "text/plain": [
              "35.94151645726976"
            ]
          },
          "metadata": {
            "tags": []
          },
          "execution_count": 19
        }
      ]
    },
    {
      "cell_type": "code",
      "metadata": {
        "id": "vFysIHjyGIvO",
        "colab_type": "code",
        "outputId": "0d022c03-556d-407a-d73d-f0c4c573b063",
        "colab": {
          "base_uri": "https://localhost:8080/",
          "height": 70
        }
      },
      "source": [
        "print(\"median = \",np.median(dep))\n",
        "print(\"max = \",max(dep))\n",
        "print(\"min = \",min(dep))\n",
        "                 "
      ],
      "execution_count": 0,
      "outputs": [
        {
          "output_type": "stream",
          "text": [
            "median =  15.0\n",
            "max =  2149.0\n",
            "min =  1.0\n"
          ],
          "name": "stdout"
        }
      ]
    },
    {
      "cell_type": "code",
      "metadata": {
        "id": "OVDgqrtjGtY7",
        "colab_type": "code",
        "outputId": "d395da92-3887-43da-8c84-f6fb705ef42a",
        "colab": {
          "base_uri": "https://localhost:8080/",
          "height": 269
        }
      },
      "source": [
        "import numpy as np\n",
        "import pandas as pd\n",
        "import seaborn as sns\n",
        "import matplotlib.pyplot as plt\n",
        "from scipy import stats\n",
        "img =sns.kdeplot(dep, shade=True)\n",
        "img = img.get_figure()\n",
        "img.savefig(\"/content/gdrive/My Drive/ML/Normal_depDelay.png\")"
      ],
      "execution_count": 0,
      "outputs": [
        {
          "output_type": "display_data",
          "data": {
            "image/png": "[encoded data removed]",
            "text/plain": [
              "<Figure size 432x288 with 1 Axes>"
            ]
          },
          "metadata": {
            "tags": []
          }
        }
      ]
    },
    {
      "cell_type": "code",
      "metadata": {
        "id": "azVj_uCxNcGS",
        "colab_type": "code",
        "colab": {}
      },
      "source": [
        "from sklearn.model_selection import learning_curve\n",
        "from sklearn.model_selection import ShuffleSplit\n",
        "from sklearn.naive_bayes import GaussianNB\n",
        "def plot_learning_curve(estimator, title, X, y, ylim=None, cv=None,n_jobs=None, train_sizes=np.linspace(.1, 1.0, 5)):\n",
        "    \"\"\"\n",
        "    Generate a simple plot of the test and training learning curve.\n",
        "\n",
        "    Parameters\n",
        "    ----------\n",
        "    estimator : object type that implements the \"fit\" and \"predict\" methods\n",
        "        An object of that type which is cloned for each validation.\n",
        "\n",
        "    title : string\n",
        "        Title for the chart.\n",
        "\n",
        "    X : array-like, shape (n_samples, n_features)\n",
        "        Training vector, where n_samples is the number of samples and\n",
        "        n_features is the number of features.\n",
        "\n",
        "    y : array-like, shape (n_samples) or (n_samples, n_features), optional\n",
        "        Target relative to X for classification or regression;\n",
        "        None for unsupervised learning.\n",
        "\n",
        "    ylim : tuple, shape (ymin, ymax), optional\n",
        "        Defines minimum and maximum yvalues plotted.\n",
        "\n",
        "    cv : int, cross-validation generator or an iterable, optional\n",
        "        Determines the cross-validation splitting strategy.\n",
        "        Possible inputs for cv are:\n",
        "          - None, to use the default 3-fold cross-validation,\n",
        "          - integer, to specify the number of folds.\n",
        "          - :term:`CV splitter`,\n",
        "          - An iterable yielding (train, test) splits as arrays of indices.\n",
        "\n",
        "        For integer/None inputs, if ``y`` is binary or multiclass,\n",
        "        :class:`StratifiedKFold` used. If the estimator is not a classifier\n",
        "        or if ``y`` is neither binary nor multiclass, :class:`KFold` is used.\n",
        "\n",
        "        Refer :ref:`User Guide <cross_validation>` for the various\n",
        "        cross-validators that can be used here.\n",
        "\n",
        "    n_jobs : int or None, optional (default=None)\n",
        "        Number of jobs to run in parallel.\n",
        "        ``None`` means 1 unless in a :obj:`joblib.parallel_backend` context.\n",
        "        ``-1`` means using all processors. See :term:`Glossary <n_jobs>`\n",
        "        for more details.\n",
        "\n",
        "    train_sizes : array-like, shape (n_ticks,), dtype float or int\n",
        "        Relative or absolute numbers of training examples that will be used to\n",
        "        generate the learning curve. If the dtype is float, it is regarded as a\n",
        "        fraction of the maximum size of the training set (that is determined\n",
        "        by the selected validation method), i.e. it has to be within (0, 1].\n",
        "        Otherwise it is interpreted as absolute sizes of the training sets.\n",
        "        Note that for classification the number of samples usually have to\n",
        "        be big enough to contain at least one sample from each class.\n",
        "        (default: np.linspace(0.1, 1.0, 5))\n",
        "    \"\"\"\n",
        "    plt.figure()\n",
        "    plt.title(title)\n",
        "    if ylim is not None:\n",
        "        plt.ylim(*ylim)\n",
        "    plt.xlabel(\"Training examples\")\n",
        "    plt.ylabel(\"Score\")\n",
        "    train_sizes, train_scores, test_scores = learning_curve(\n",
        "        estimator, X, y, cv=cv, n_jobs=n_jobs, train_sizes=train_sizes)\n",
        "    train_scores_mean = np.mean(train_scores, axis=1)\n",
        "    train_scores_std = np.std(train_scores, axis=1)\n",
        "    test_scores_mean = np.mean(test_scores, axis=1)\n",
        "    test_scores_std = np.std(test_scores, axis=1)\n",
        "    plt.grid()\n",
        "\n",
        "    plt.fill_between(train_sizes, train_scores_mean - train_scores_std,\n",
        "                     train_scores_mean + train_scores_std, alpha=0.1,\n",
        "                     color=\"r\")\n",
        "    plt.fill_between(train_sizes, test_scores_mean - test_scores_std,\n",
        "                     test_scores_mean + test_scores_std, alpha=0.1, color=\"g\")\n",
        "    plt.plot(train_sizes, train_scores_mean, 'o-', color=\"r\",\n",
        "             label=\"Training score\")\n",
        "    plt.plot(train_sizes, test_scores_mean, 'o-', color=\"g\",\n",
        "             label=\"Cross-validation score\")\n",
        "\n",
        "    plt.legend(loc=\"best\")\n",
        "    return plt"
      ],
      "execution_count": 0,
      "outputs": []
    },
    {
      "cell_type": "code",
      "metadata": {
        "id": "QOuBu5N5Rl9-",
        "colab_type": "code",
        "outputId": "d6fa11a5-305b-4d08-b672-6e32328bd2b4",
        "colab": {
          "base_uri": "https://localhost:8080/",
          "height": 350
        }
      },
      "source": [
        "\n",
        "title = r\"Learning Curves (Random Forest Classifier, n_esimators = 10)\"\n",
        "cv = ShuffleSplit(n_splits=10, test_size=0.2, random_state=0)\n",
        "from sklearn.ensemble import RandomForestClassifier\n",
        "estimator = RandomForestClassifier(n_estimators=3)\n",
        "\n",
        "plot_learning_curve(estimator, title,x_val , y_val, (0.7, 1.01), cv=cv, n_jobs=4)\n",
        "\n",
        "plt.show()"
      ],
      "execution_count": 0,
      "outputs": [
        {
          "output_type": "stream",
          "text": [
            "/usr/local/lib/python3.6/dist-packages/joblib/externals/loky/process_executor.py:706: UserWarning: A worker stopped while some jobs were given to the executor. This can be caused by a too short worker timeout or by a memory leak.\n",
            "  \"timeout or by a memory leak.\", UserWarning\n"
          ],
          "name": "stderr"
        },
        {
          "output_type": "display_data",
          "data": {
            "image/png": "[encoded data removed]",
            "text/plain": [
              "<Figure size 432x288 with 1 Axes>"
            ]
          },
          "metadata": {
            "tags": []
          }
        }
      ]
    },
    {
      "cell_type": "code",
      "metadata": {
        "id": "yrpJVmxBh6dL",
        "colab_type": "code",
        "colab": {}
      },
      "source": [
        "\n",
        "data =pd.read_csv('/content/gdrive/My Drive/ML/Dataset.csv',sep='\\t', encoding='utf-8')\n",
        "\n",
        "data = data.reset_index()\n",
        "data = data.drop(columns = ['index'])\n",
        "data = data[data['ArrDel15']==1]\n",
        "data = data.reset_index()\n",
        "data = data.drop(columns = ['index'])\n",
        "data = data.drop(columns = ['Unnamed: 0'])\n",
        "x_tr = ['Quarter', 'Month', 'DayofMonth', 'DayOfWeek','CRSDepTime',\n",
        "        'Origin',  'Dest','year','DepDelay',\n",
        "       'DewPointC', 'DewPointF', 'FeelsLikeC', 'FeelsLikeF', 'HeatIndexC',\n",
        "       'HeatIndexF', 'WindChillC', 'WindChillF', 'WindGustKmph',\n",
        "       'WindGustMiles', 'cloudcover', 'humidity', 'precipMM', 'pressure',\n",
        "       'tempC', 'tempF', 'time', 'visibility', 'weatherCode', 'winddir16Point',\n",
        "       'winddirDegree', 'windspeedKmph', 'windspeedMiles']\n",
        "X= data[x_tr]\n"
      ],
      "execution_count": 0,
      "outputs": []
    },
    {
      "cell_type": "code",
      "metadata": {
        "id": "IvjYzg1FnHVK",
        "colab_type": "code",
        "outputId": "8e1faed1-4aac-43e5-9a49-b5b6a14dac47",
        "colab": {
          "base_uri": "https://localhost:8080/",
          "height": 70
        }
      },
      "source": [
        "def func(row):\n",
        "    if(row['year']==2016):\n",
        "      row['year'] = 1  # lable encoding the year values\n",
        "    else:\n",
        "      row['year'] = 2  \n",
        "    return row\n",
        "X= X.apply(func, axis=1)\n",
        "x_val = X.iloc[:,:].values\n",
        "x_val[0]"
      ],
      "execution_count": 0,
      "outputs": [
        {
          "output_type": "execute_result",
          "data": {
            "text/plain": [
              "array([1.0, 1, 1, 5.0, 1725.0, 'ATL', 'DFW', 1, 63.0, 8.0, 47.0, 8.0,\n",
              "       46.0, 10.0, 49.0, 8.0, 46.0, 17.0, 11.0, 100.0, 91.0, 0.1, 1023.0,\n",
              "       10.0, 49.0, 0.0, 10.0, 176.0, 'NW', 318.0, 11.0, 7.0], dtype=object)"
            ]
          },
          "metadata": {
            "tags": []
          },
          "execution_count": 31
        }
      ]
    },
    {
      "cell_type": "code",
      "metadata": {
        "id": "IBVsP_AOnJ1R",
        "colab_type": "code",
        "outputId": "418cf14c-1b56-4d85-afcc-b9b9444ca65a",
        "colab": {
          "base_uri": "https://localhost:8080/",
          "height": 72
        }
      },
      "source": [
        "from sklearn.preprocessing import LabelEncoder, OneHotEncoder\n",
        "enc  = LabelEncoder()\n",
        "enc.fit(x_val[:,6].reshape(-1, 1) )\n",
        "c1=['d1']\n",
        "temp = pd.DataFrame(enc.transform(x_val[:,5]),columns = c1)\n",
        "X = pd.concat([X,temp],axis=1)\n",
        "X = X.drop(columns = ['Origin'])\n",
        "c2=['a1']\n",
        "temp = pd.DataFrame(enc.transform(x_val[:,6]),columns = c2)\n",
        "X = pd.concat([X,temp],axis=1)\n",
        "X = X.drop(columns = ['Dest'])\n",
        "X = X.drop(columns = ['winddir16Point'])\n",
        "X = X.drop(columns = ['DewPointF','FeelsLikeC','FeelsLikeF','HeatIndexF','WindChillF','WindGustMiles','tempF','windspeedMiles','Quarter','time'])\n",
        "x_val = X.iloc[:,:].values\n",
        "Y = pd.DataFrame(data['ArrDelayMinutes'])\n",
        "y_val = Y.iloc[:,:].values"
      ],
      "execution_count": 0,
      "outputs": [
        {
          "output_type": "stream",
          "text": [
            "/usr/local/lib/python3.6/dist-packages/sklearn/preprocessing/label.py:219: DataConversionWarning: A column-vector y was passed when a 1d array was expected. Please change the shape of y to (n_samples, ), for example using ravel().\n",
            "  y = column_or_1d(y, warn=True)\n"
          ],
          "name": "stderr"
        }
      ]
    },
    {
      "cell_type": "code",
      "metadata": {
        "id": "fEu8VMujmxkb",
        "colab_type": "code",
        "outputId": "0ca4940e-ad02-424d-8e26-cf5d3328c4f9",
        "colab": {
          "base_uri": "https://localhost:8080/",
          "height": 87
        }
      },
      "source": [
        "x_val[0]"
      ],
      "execution_count": 0,
      "outputs": [
        {
          "output_type": "execute_result",
          "data": {
            "text/plain": [
              "array([1.000e+00, 1.000e+00, 5.000e+00, 1.725e+03, 1.000e+00, 6.300e+01,\n",
              "       8.000e+00, 1.000e+01, 8.000e+00, 1.700e+01, 1.000e+02, 9.100e+01,\n",
              "       1.000e-01, 1.023e+03, 1.000e+01, 1.000e+01, 1.760e+02, 3.180e+02,\n",
              "       1.100e+01, 0.000e+00, 3.000e+00])"
            ]
          },
          "metadata": {
            "tags": []
          },
          "execution_count": 33
        }
      ]
    },
    {
      "cell_type": "code",
      "metadata": {
        "id": "Hcq7HZrLZiti",
        "colab_type": "code",
        "outputId": "d9ba0b0f-ad50-4e75-bda1-e0aec338f61f",
        "colab": {
          "base_uri": "https://localhost:8080/",
          "height": 350
        }
      },
      "source": [
        "\n",
        "title = r\"Learning Curves (Extra Gradient Boosting Regressor, n_esimators = 10)\"\n",
        "cv = ShuffleSplit(n_splits=10, test_size=0.2, random_state=0)\n",
        "from sklearn.ensemble import GradientBoostingRegressor as GBR\n",
        "estimator = GBR()\n",
        "\n",
        "plot_learning_curve(estimator, title,x_val , y_val, (0.7, 1.01), cv=cv, n_jobs=4)\n",
        "\n",
        "plt.show()"
      ],
      "execution_count": 0,
      "outputs": [
        {
          "output_type": "stream",
          "text": [
            "/usr/local/lib/python3.6/dist-packages/joblib/externals/loky/process_executor.py:706: UserWarning: A worker stopped while some jobs were given to the executor. This can be caused by a too short worker timeout or by a memory leak.\n",
            "  \"timeout or by a memory leak.\", UserWarning\n"
          ],
          "name": "stderr"
        },
        {
          "output_type": "display_data",
          "data": {
            "image/png": "[encoded data removed]",
            "text/plain": [
              "<Figure size 432x288 with 1 Axes>"
            ]
          },
          "metadata": {
            "tags": []
          }
        }
      ]
    },
    {
      "cell_type": "code",
      "metadata": {
        "id": "0yhTms9xYOkm",
        "colab_type": "code",
        "outputId": "22a8f1ff-9516-4f38-987d-8fdd9fe87eaa",
        "colab": {
          "base_uri": "https://localhost:8080/",
          "height": 140
        }
      },
      "source": [
        "y_val"
      ],
      "execution_count": 0,
      "outputs": [
        {
          "output_type": "execute_result",
          "data": {
            "text/plain": [
              "array([[ 36.],\n",
              "       [ 26.],\n",
              "       [ 36.],\n",
              "       ...,\n",
              "       [ 34.],\n",
              "       [ 25.],\n",
              "       [164.]])"
            ]
          },
          "metadata": {
            "tags": []
          },
          "execution_count": 35
        }
      ]
    },
    {
      "cell_type": "code",
      "metadata": {
        "id": "frW_LDajvPIY",
        "colab_type": "code",
        "outputId": "e675d807-c4ff-4f80-bfbf-cb6b8d95f217",
        "colab": {
          "base_uri": "https://localhost:8080/",
          "height": 34
        }
      },
      "source": [
        "max(y_val)"
      ],
      "execution_count": 0,
      "outputs": [
        {
          "output_type": "execute_result",
          "data": {
            "text/plain": [
              "array([2142.])"
            ]
          },
          "metadata": {
            "tags": []
          },
          "execution_count": 36
        }
      ]
    },
    {
      "cell_type": "code",
      "metadata": {
        "id": "qOebzVspvRdA",
        "colab_type": "code",
        "outputId": "94b7fa25-ca55-489e-f5e6-2934701c9a69",
        "colab": {
          "base_uri": "https://localhost:8080/",
          "height": 34
        }
      },
      "source": [
        "np.mean(y_val)"
      ],
      "execution_count": 0,
      "outputs": [
        {
          "output_type": "execute_result",
          "data": {
            "text/plain": [
              "62.43262653809518"
            ]
          },
          "metadata": {
            "tags": []
          },
          "execution_count": 37
        }
      ]
    },
    {
      "cell_type": "code",
      "metadata": {
        "id": "54sWdF6IvVM9",
        "colab_type": "code",
        "outputId": "5b24e417-cdd1-4d00-eb62-09c686ea0d59",
        "colab": {
          "base_uri": "https://localhost:8080/",
          "height": 34
        }
      },
      "source": [
        "np.median(y_val)"
      ],
      "execution_count": 0,
      "outputs": [
        {
          "output_type": "execute_result",
          "data": {
            "text/plain": [
              "39.0"
            ]
          },
          "metadata": {
            "tags": []
          },
          "execution_count": 39
        }
      ]
    },
    {
      "cell_type": "code",
      "metadata": {
        "id": "HJ6laUQ9vX2h",
        "colab_type": "code",
        "outputId": "a68ba9e2-6e6b-4688-9623-b2f507795e3e",
        "colab": {
          "base_uri": "https://localhost:8080/",
          "height": 269
        }
      },
      "source": [
        "import numpy as np\n",
        "import pandas as pd\n",
        "import seaborn as sns\n",
        "import matplotlib.pyplot as plt\n",
        "from scipy import stats\n",
        "img =sns.kdeplot(y_val.reshape(1,-1)[0] , shade=True)\n",
        "img = img.get_figure()\n",
        "img.savefig(\"/content/gdrive/My Drive/ML/Normal_ArrDelay.png\")"
      ],
      "execution_count": 0,
      "outputs": [
        {
          "output_type": "display_data",
          "data": {
            "image/png": "[encoded data removed]",
            "text/plain": [
              "<Figure size 432x288 with 1 Axes>"
            ]
          },
          "metadata": {
            "tags": []
          }
        }
      ]
    },
    {
      "cell_type": "code",
      "metadata": {
        "id": "06hwl7GVwaPs",
        "colab_type": "code",
        "outputId": "49de51f8-0a97-4c56-b9ee-6afcbfca397c",
        "colab": {
          "base_uri": "https://localhost:8080/",
          "height": 653
        }
      },
      "source": [
        "import plotly.plotly as py\n",
        "import plotly.graph_objs as go\n",
        "\n",
        "import pandas as pd\n",
        "\n",
        "df = data['ArrDelayMinutes']\n",
        "\n",
        "fig = {\n",
        "    \"data\": [{\n",
        "        \"type\": 'violin',\n",
        "        \"y\": data['ArrDelayMinutes'],\n",
        "        \"box\": {\n",
        "            \"visible\": True\n",
        "        },\n",
        "        \"line\": {\n",
        "            \"color\": 'black'\n",
        "        },\n",
        "        \"meanline\": {\n",
        "            \"visible\": True\n",
        "        },\n",
        "        \"fillcolor\": '#8dd3c7',\n",
        "        \"opacity\": 0.6,\n",
        "        \"x0\": 'Total Bill'\n",
        "    }],\n",
        "    \"layout\" : {\n",
        "        \"title\": \"\",\n",
        "        \"yaxis\": {\n",
        "            \"zeroline\": False,\n",
        "        }\n",
        "    }\n",
        "}\n",
        "\n",
        "py.iplot(fig, filename = 'violin/basic', validate = False)"
      ],
      "execution_count": 0,
      "outputs": [
        {
          "output_type": "stream",
          "text": [
            "/usr/local/lib/python3.6/dist-packages/plotly/plotly/plotly.py:230: UserWarning:\n",
            "\n",
            "Woah there! Look at all those points! Due to browser limitations, the Plotly SVG drawing functions have a hard time graphing more than 500k data points for line charts, or 40k points for other types of charts. Here are some suggestions:\n",
            "(1) Use the `plotly.graph_objs.Scattergl` trace object to generate a WebGl graph.\n",
            "(2) Trying using the image API to return an image instead of a graph URL\n",
            "(3) Use matplotlib\n",
            "(4) See if you can create your visualization with fewer data points\n",
            "\n",
            "If the visualization you're using aggregates points (e.g., box plot, histogram, etc.) you can disregard this warning.\n",
            "\n"
          ],
          "name": "stderr"
        },
        {
          "output_type": "stream",
          "text": [
            "Aw, snap! We didn't get a username with your request.\n",
            "\n",
            "Don't have an account? https://plot.ly/api_signup\n",
            "\n",
            "Questions? accounts@plot.ly\n"
          ],
          "name": "stdout"
        },
        {
          "output_type": "error",
          "ename": "PlotlyError",
          "evalue": "ignored",
          "traceback": [
            "\u001b[0;31m---------------------------------------------------------------------------\u001b[0m",
            "\u001b[0;31mPlotlyError\u001b[0m                               Traceback (most recent call last)",
            "\u001b[0;32m<ipython-input-58-9950244618c4>\u001b[0m in \u001b[0;36m<module>\u001b[0;34m()\u001b[0m\n\u001b[1;32m     31\u001b[0m }\n\u001b[1;32m     32\u001b[0m \u001b[0;34m\u001b[0m\u001b[0m\n\u001b[0;32m---> 33\u001b[0;31m \u001b[0mpy\u001b[0m\u001b[0;34m.\u001b[0m\u001b[0miplot\u001b[0m\u001b[0;34m(\u001b[0m\u001b[0mfig\u001b[0m\u001b[0;34m,\u001b[0m \u001b[0mvalidate\u001b[0m \u001b[0;34m=\u001b[0m \u001b[0;32mFalse\u001b[0m\u001b[0;34m)\u001b[0m\u001b[0;34m\u001b[0m\u001b[0;34m\u001b[0m\u001b[0m\n\u001b[0m",
            "\u001b[0;32m/usr/local/lib/python3.6/dist-packages/plotly/plotly/plotly.py\u001b[0m in \u001b[0;36miplot\u001b[0;34m(figure_or_data, **plot_options)\u001b[0m\n\u001b[1;32m    168\u001b[0m         \u001b[0membed_options\u001b[0m\u001b[0;34m[\u001b[0m\u001b[0;34m'height'\u001b[0m\u001b[0;34m]\u001b[0m \u001b[0;34m=\u001b[0m \u001b[0mstr\u001b[0m\u001b[0;34m(\u001b[0m\u001b[0membed_options\u001b[0m\u001b[0;34m[\u001b[0m\u001b[0;34m'height'\u001b[0m\u001b[0;34m]\u001b[0m\u001b[0;34m)\u001b[0m \u001b[0;34m+\u001b[0m \u001b[0;34m'px'\u001b[0m\u001b[0;34m\u001b[0m\u001b[0;34m\u001b[0m\u001b[0m\n\u001b[1;32m    169\u001b[0m \u001b[0;34m\u001b[0m\u001b[0m\n\u001b[0;32m--> 170\u001b[0;31m     \u001b[0;32mreturn\u001b[0m \u001b[0mtools\u001b[0m\u001b[0;34m.\u001b[0m\u001b[0membed\u001b[0m\u001b[0;34m(\u001b[0m\u001b[0murl\u001b[0m\u001b[0;34m,\u001b[0m \u001b[0;34m**\u001b[0m\u001b[0membed_options\u001b[0m\u001b[0;34m)\u001b[0m\u001b[0;34m\u001b[0m\u001b[0;34m\u001b[0m\u001b[0m\n\u001b[0m\u001b[1;32m    171\u001b[0m \u001b[0;34m\u001b[0m\u001b[0m\n\u001b[1;32m    172\u001b[0m \u001b[0;34m\u001b[0m\u001b[0m\n",
            "\u001b[0;32m/usr/local/lib/python3.6/dist-packages/plotly/tools.py\u001b[0m in \u001b[0;36membed\u001b[0;34m(file_owner_or_url, file_id, width, height)\u001b[0m\n\u001b[1;32m    399\u001b[0m         \u001b[0;32melse\u001b[0m\u001b[0;34m:\u001b[0m\u001b[0;34m\u001b[0m\u001b[0;34m\u001b[0m\u001b[0m\n\u001b[1;32m    400\u001b[0m             \u001b[0murl\u001b[0m \u001b[0;34m=\u001b[0m \u001b[0mfile_owner_or_url\u001b[0m\u001b[0;34m\u001b[0m\u001b[0;34m\u001b[0m\u001b[0m\n\u001b[0;32m--> 401\u001b[0;31m         \u001b[0;32mreturn\u001b[0m \u001b[0mPlotlyDisplay\u001b[0m\u001b[0;34m(\u001b[0m\u001b[0murl\u001b[0m\u001b[0;34m,\u001b[0m \u001b[0mwidth\u001b[0m\u001b[0;34m,\u001b[0m \u001b[0mheight\u001b[0m\u001b[0;34m)\u001b[0m\u001b[0;34m\u001b[0m\u001b[0;34m\u001b[0m\u001b[0m\n\u001b[0m\u001b[1;32m    402\u001b[0m     \u001b[0;32melse\u001b[0m\u001b[0;34m:\u001b[0m\u001b[0;34m\u001b[0m\u001b[0;34m\u001b[0m\u001b[0m\n\u001b[1;32m    403\u001b[0m         if (get_config_defaults()['plotly_domain']\n",
            "\u001b[0;32m/usr/local/lib/python3.6/dist-packages/plotly/tools.py\u001b[0m in \u001b[0;36m__init__\u001b[0;34m(self, url, width, height)\u001b[0m\n\u001b[1;32m   1479\u001b[0m         \u001b[0;32mdef\u001b[0m \u001b[0m__init__\u001b[0m\u001b[0;34m(\u001b[0m\u001b[0mself\u001b[0m\u001b[0;34m,\u001b[0m \u001b[0murl\u001b[0m\u001b[0;34m,\u001b[0m \u001b[0mwidth\u001b[0m\u001b[0;34m,\u001b[0m \u001b[0mheight\u001b[0m\u001b[0;34m)\u001b[0m\u001b[0;34m:\u001b[0m\u001b[0;34m\u001b[0m\u001b[0;34m\u001b[0m\u001b[0m\n\u001b[1;32m   1480\u001b[0m             \u001b[0mself\u001b[0m\u001b[0;34m.\u001b[0m\u001b[0mresource\u001b[0m \u001b[0;34m=\u001b[0m \u001b[0murl\u001b[0m\u001b[0;34m\u001b[0m\u001b[0;34m\u001b[0m\u001b[0m\n\u001b[0;32m-> 1481\u001b[0;31m             \u001b[0mself\u001b[0m\u001b[0;34m.\u001b[0m\u001b[0membed_code\u001b[0m \u001b[0;34m=\u001b[0m \u001b[0mget_embed\u001b[0m\u001b[0;34m(\u001b[0m\u001b[0murl\u001b[0m\u001b[0;34m,\u001b[0m \u001b[0mwidth\u001b[0m\u001b[0;34m=\u001b[0m\u001b[0mwidth\u001b[0m\u001b[0;34m,\u001b[0m \u001b[0mheight\u001b[0m\u001b[0;34m=\u001b[0m\u001b[0mheight\u001b[0m\u001b[0;34m)\u001b[0m\u001b[0;34m\u001b[0m\u001b[0;34m\u001b[0m\u001b[0m\n\u001b[0m\u001b[1;32m   1482\u001b[0m             \u001b[0msuper\u001b[0m\u001b[0;34m(\u001b[0m\u001b[0mPlotlyDisplay\u001b[0m\u001b[0;34m,\u001b[0m \u001b[0mself\u001b[0m\u001b[0;34m)\u001b[0m\u001b[0;34m.\u001b[0m\u001b[0m__init__\u001b[0m\u001b[0;34m(\u001b[0m\u001b[0mdata\u001b[0m\u001b[0;34m=\u001b[0m\u001b[0mself\u001b[0m\u001b[0;34m.\u001b[0m\u001b[0membed_code\u001b[0m\u001b[0;34m)\u001b[0m\u001b[0;34m\u001b[0m\u001b[0;34m\u001b[0m\u001b[0m\n\u001b[1;32m   1483\u001b[0m \u001b[0;34m\u001b[0m\u001b[0m\n",
            "\u001b[0;32m/usr/local/lib/python3.6/dist-packages/plotly/tools.py\u001b[0m in \u001b[0;36mget_embed\u001b[0;34m(file_owner_or_url, file_id, width, height)\u001b[0m\n\u001b[1;32m    304\u001b[0m                 \u001b[0;34m\"'{1}'.\"\u001b[0m\u001b[0;34m\u001b[0m\u001b[0;34m\u001b[0m\u001b[0m\n\u001b[1;32m    305\u001b[0m                 \u001b[0;34m\"\\nRun help on this function for more information.\"\u001b[0m\u001b[0;34m\u001b[0m\u001b[0;34m\u001b[0m\u001b[0m\n\u001b[0;32m--> 306\u001b[0;31m                 \"\".format(url, plotly_rest_url))\n\u001b[0m\u001b[1;32m    307\u001b[0m         \u001b[0murlsplit\u001b[0m \u001b[0;34m=\u001b[0m \u001b[0msix\u001b[0m\u001b[0;34m.\u001b[0m\u001b[0mmoves\u001b[0m\u001b[0;34m.\u001b[0m\u001b[0murllib\u001b[0m\u001b[0;34m.\u001b[0m\u001b[0mparse\u001b[0m\u001b[0;34m.\u001b[0m\u001b[0murlparse\u001b[0m\u001b[0;34m(\u001b[0m\u001b[0murl\u001b[0m\u001b[0;34m)\u001b[0m\u001b[0;34m\u001b[0m\u001b[0;34m\u001b[0m\u001b[0m\n\u001b[1;32m    308\u001b[0m         \u001b[0mfile_owner\u001b[0m \u001b[0;34m=\u001b[0m \u001b[0murlsplit\u001b[0m\u001b[0;34m.\u001b[0m\u001b[0mpath\u001b[0m\u001b[0;34m.\u001b[0m\u001b[0msplit\u001b[0m\u001b[0;34m(\u001b[0m\u001b[0;34m'/'\u001b[0m\u001b[0;34m)\u001b[0m\u001b[0;34m[\u001b[0m\u001b[0;36m1\u001b[0m\u001b[0;34m]\u001b[0m\u001b[0;34m.\u001b[0m\u001b[0msplit\u001b[0m\u001b[0;34m(\u001b[0m\u001b[0;34m'~'\u001b[0m\u001b[0;34m)\u001b[0m\u001b[0;34m[\u001b[0m\u001b[0;36m1\u001b[0m\u001b[0;34m]\u001b[0m\u001b[0;34m\u001b[0m\u001b[0;34m\u001b[0m\u001b[0m\n",
            "\u001b[0;31mPlotlyError\u001b[0m: Because you didn't supply a 'file_id' in the call, we're assuming you're trying to snag a figure from a url. You supplied the url, '', we expected it to start with 'https://plot.ly'.\nRun help on this function for more information."
          ]
        }
      ]
    },
    {
      "cell_type": "code",
      "metadata": {
        "id": "FXVEV2EozCAV",
        "colab_type": "code",
        "outputId": "6b5ad753-b973-4d41-8b9c-f9ece8eab53f",
        "colab": {
          "base_uri": "https://localhost:8080/",
          "height": 107
        }
      },
      "source": [
        "df.to_csv('/content/gdrive/My Drive/ML/plotly.csv')"
      ],
      "execution_count": 0,
      "outputs": [
        {
          "output_type": "stream",
          "text": [
            "/usr/local/lib/python3.6/dist-packages/ipykernel_launcher.py:1: FutureWarning:\n",
            "\n",
            "The signature of `Series.to_csv` was aligned to that of `DataFrame.to_csv`, and argument 'header' will change its default value from False to True: please pass an explicit value to suppress this warning.\n",
            "\n"
          ],
          "name": "stderr"
        }
      ]
    },
    {
      "cell_type": "code",
      "metadata": {
        "id": "ZHMpuBNS0-mE",
        "colab_type": "code",
        "outputId": "e2f4640b-6683-463a-b13a-73286521ad31",
        "colab": {
          "base_uri": "https://localhost:8080/",
          "height": 1000
        }
      },
      "source": [
        "df"
      ],
      "execution_count": 0,
      "outputs": [
        {
          "output_type": "execute_result",
          "data": {
            "text/plain": [
              "0          36.0\n",
              "1          26.0\n",
              "2          36.0\n",
              "3          32.0\n",
              "4          46.0\n",
              "5          17.0\n",
              "6          47.0\n",
              "7          16.0\n",
              "8         108.0\n",
              "9          21.0\n",
              "10         16.0\n",
              "11         61.0\n",
              "12         15.0\n",
              "13         95.0\n",
              "14         26.0\n",
              "15         36.0\n",
              "16        124.0\n",
              "17         23.0\n",
              "18         18.0\n",
              "19         31.0\n",
              "20         31.0\n",
              "21         20.0\n",
              "22         40.0\n",
              "23         45.0\n",
              "24         16.0\n",
              "25         16.0\n",
              "26         19.0\n",
              "27         15.0\n",
              "28        502.0\n",
              "29         18.0\n",
              "          ...  \n",
              "383155     20.0\n",
              "383156     84.0\n",
              "383157     42.0\n",
              "383158     20.0\n",
              "383159     23.0\n",
              "383160     49.0\n",
              "383161     20.0\n",
              "383162     21.0\n",
              "383163     26.0\n",
              "383164     21.0\n",
              "383165     98.0\n",
              "383166     67.0\n",
              "383167     47.0\n",
              "383168     38.0\n",
              "383169     16.0\n",
              "383170     25.0\n",
              "383171     30.0\n",
              "383172     85.0\n",
              "383173    162.0\n",
              "383174     26.0\n",
              "383175     19.0\n",
              "383176     29.0\n",
              "383177    173.0\n",
              "383178    273.0\n",
              "383179     26.0\n",
              "383180     17.0\n",
              "383181     46.0\n",
              "383182     34.0\n",
              "383183     25.0\n",
              "383184    164.0\n",
              "Name: ArrDelayMinutes, Length: 383185, dtype: float64"
            ]
          },
          "metadata": {
            "tags": []
          },
          "execution_count": 60
        }
      ]
    },
    {
      "cell_type": "code",
      "metadata": {
        "id": "jK16hlOa1A04",
        "colab_type": "code",
        "outputId": "1b20b7d7-09b9-4972-8181-0c0c2811f3ae",
        "colab": {
          "base_uri": "https://localhost:8080/",
          "height": 34
        }
      },
      "source": [
        "max(data['ArrDelayMinutes'])"
      ],
      "execution_count": 0,
      "outputs": [
        {
          "output_type": "execute_result",
          "data": {
            "text/plain": [
              "2142.0"
            ]
          },
          "metadata": {
            "tags": []
          },
          "execution_count": 11
        }
      ]
    },
    {
      "cell_type": "code",
      "metadata": {
        "id": "IBPRlqoRZNgq",
        "colab_type": "code",
        "colab": {}
      },
      "source": [
        ""
      ],
      "execution_count": 0,
      "outputs": []
    }
  ]
}