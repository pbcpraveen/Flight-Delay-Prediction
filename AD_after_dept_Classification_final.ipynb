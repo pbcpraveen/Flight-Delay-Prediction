{
  "nbformat": 4,
  "nbformat_minor": 0,
  "metadata": {
    "colab": {
      "name": "AD_after_dept_Classification_final.ipynb",
      "version": "0.3.2",
      "provenance": [],
      "collapsed_sections": []
    },
    "kernelspec": {
      "name": "python3",
      "display_name": "Python 3"
    },
    "accelerator": "GPU"
  },
  "cells": [
    {
      "cell_type": "code",
      "metadata": {
        "id": "jwCGnB7dWKUt",
        "colab_type": "code",
        "outputId": "3b10f37a-cec8-4129-aa42-3ccd0b02a219",
        "colab": {
          "base_uri": "https://localhost:8080/",
          "height": 72
        }
      },
      "source": [
        "import numpy as np\n",
        "import pandas as pd\n",
        "from imblearn.over_sampling import RandomOverSampler as ROS\n",
        "from imblearn.over_sampling import SMOTE as SMO\n"
      ],
      "execution_count": 0,
      "outputs": [
        {
          "output_type": "stream",
          "text": [
            "/usr/local/lib/python3.6/dist-packages/sklearn/externals/six.py:31: DeprecationWarning: The module is deprecated in version 0.21 and will be removed in version 0.23 since we've dropped support for Python 2.7. Please rely on the official version of six (https://pypi.org/project/six/).\n",
            "  \"(https://pypi.org/project/six/).\", DeprecationWarning)\n"
          ],
          "name": "stderr"
        }
      ]
    },
    {
      "cell_type": "code",
      "metadata": {
        "id": "A_s-SEe7Wart",
        "colab_type": "code",
        "outputId": "cc43cc1f-d5d5-4fe7-9a8d-906a330b8f4d",
        "colab": {
          "base_uri": "https://localhost:8080/",
          "height": 125
        }
      },
      "source": [
        "from google.colab import drive\n",
        "drive.mount('/content/gdrive')\n"
      ],
      "execution_count": 0,
      "outputs": [
        {
          "output_type": "stream",
          "text": [
            "Go to this URL in a browser: https://accounts.google.com/o/oauth2/auth?client_id=947318989803-6bn6qk8qdgf4n4g3pfee6491hc0brc4i.apps.googleusercontent.com&redirect_uri=urn%3Aietf%3Awg%3Aoauth%3A2.0%3Aoob&scope=email%20https%3A%2F%2Fwww.googleapis.com%2Fauth%2Fdocs.test%20https%3A%2F%2Fwww.googleapis.com%2Fauth%2Fdrive%20https%3A%2F%2Fwww.googleapis.com%2Fauth%2Fdrive.photos.readonly%20https%3A%2F%2Fwww.googleapis.com%2Fauth%2Fpeopleapi.readonly&response_type=code\n",
            "\n",
            "Enter your authorization code:\n",
            "··········\n",
            "Mounted at /content/gdrive\n"
          ],
          "name": "stdout"
        }
      ]
    },
    {
      "cell_type": "code",
      "metadata": {
        "id": "CcUi-KGjWjMB",
        "colab_type": "code",
        "colab": {}
      },
      "source": [
        "train =pd.read_csv('/content/gdrive/My Drive/ML/Training_x_ad.csv',sep='\\t', encoding='utf-8')\n",
        "test = pd.read_csv('/content/gdrive/My Drive/ML/Testing_x_ad.csv',sep='\\t', encoding='utf-8')\n"
      ],
      "execution_count": 0,
      "outputs": []
    },
    {
      "cell_type": "code",
      "metadata": {
        "id": "jAszDh-eAD8c",
        "colab_type": "code",
        "colab": {}
      },
      "source": [
        "data = pd.concat([train,test],axis = 0)\n",
        "data = data.reset_index()\n",
        "data = data.drop(columns = ['index'])"
      ],
      "execution_count": 0,
      "outputs": []
    },
    {
      "cell_type": "code",
      "metadata": {
        "id": "k3i5zdT9WmUn",
        "colab_type": "code",
        "outputId": "5479ae7d-7c34-413d-909c-503f409149c4",
        "colab": {
          "base_uri": "https://localhost:8080/",
          "height": 422
        }
      },
      "source": [
        "\n",
        "data['ArrDelay'] = 0\n",
        "\n",
        "def func(row):\n",
        "    if row['ArrDel15']>0:# consider 15\n",
        "        return 1\n",
        "    else:\n",
        "        return 0\n",
        "data['ArrDelay'] = data.apply(func, axis=1)"
      ],
      "execution_count": 0,
      "outputs": [
        {
          "output_type": "error",
          "ename": "KeyboardInterrupt",
          "evalue": "ignored",
          "traceback": [
            "\u001b[0;31m---------------------------------------------------------------------------\u001b[0m",
            "\u001b[0;31mKeyboardInterrupt\u001b[0m                         Traceback (most recent call last)",
            "\u001b[0;32m<ipython-input-5-1d2dfb4fc470>\u001b[0m in \u001b[0;36m<module>\u001b[0;34m()\u001b[0m\n\u001b[1;32m      7\u001b[0m     \u001b[0;32melse\u001b[0m\u001b[0;34m:\u001b[0m\u001b[0;34m\u001b[0m\u001b[0;34m\u001b[0m\u001b[0m\n\u001b[1;32m      8\u001b[0m         \u001b[0;32mreturn\u001b[0m \u001b[0;36m0\u001b[0m\u001b[0;34m\u001b[0m\u001b[0;34m\u001b[0m\u001b[0m\n\u001b[0;32m----> 9\u001b[0;31m \u001b[0mdata\u001b[0m\u001b[0;34m[\u001b[0m\u001b[0;34m'ArrDelay'\u001b[0m\u001b[0;34m]\u001b[0m \u001b[0;34m=\u001b[0m \u001b[0mdata\u001b[0m\u001b[0;34m.\u001b[0m\u001b[0mapply\u001b[0m\u001b[0;34m(\u001b[0m\u001b[0mfunc\u001b[0m\u001b[0;34m,\u001b[0m \u001b[0maxis\u001b[0m\u001b[0;34m=\u001b[0m\u001b[0;36m1\u001b[0m\u001b[0;34m)\u001b[0m\u001b[0;34m\u001b[0m\u001b[0;34m\u001b[0m\u001b[0m\n\u001b[0m",
            "\u001b[0;32m/usr/local/lib/python3.6/dist-packages/pandas/core/frame.py\u001b[0m in \u001b[0;36mapply\u001b[0;34m(self, func, axis, broadcast, raw, reduce, result_type, args, **kwds)\u001b[0m\n\u001b[1;32m   6485\u001b[0m                          \u001b[0margs\u001b[0m\u001b[0;34m=\u001b[0m\u001b[0margs\u001b[0m\u001b[0;34m,\u001b[0m\u001b[0;34m\u001b[0m\u001b[0;34m\u001b[0m\u001b[0m\n\u001b[1;32m   6486\u001b[0m                          kwds=kwds)\n\u001b[0;32m-> 6487\u001b[0;31m         \u001b[0;32mreturn\u001b[0m \u001b[0mop\u001b[0m\u001b[0;34m.\u001b[0m\u001b[0mget_result\u001b[0m\u001b[0;34m(\u001b[0m\u001b[0;34m)\u001b[0m\u001b[0;34m\u001b[0m\u001b[0;34m\u001b[0m\u001b[0m\n\u001b[0m\u001b[1;32m   6488\u001b[0m \u001b[0;34m\u001b[0m\u001b[0m\n\u001b[1;32m   6489\u001b[0m     \u001b[0;32mdef\u001b[0m \u001b[0mapplymap\u001b[0m\u001b[0;34m(\u001b[0m\u001b[0mself\u001b[0m\u001b[0;34m,\u001b[0m \u001b[0mfunc\u001b[0m\u001b[0;34m)\u001b[0m\u001b[0;34m:\u001b[0m\u001b[0;34m\u001b[0m\u001b[0;34m\u001b[0m\u001b[0m\n",
            "\u001b[0;32m/usr/local/lib/python3.6/dist-packages/pandas/core/apply.py\u001b[0m in \u001b[0;36mget_result\u001b[0;34m(self)\u001b[0m\n\u001b[1;32m    149\u001b[0m             \u001b[0;32mreturn\u001b[0m \u001b[0mself\u001b[0m\u001b[0;34m.\u001b[0m\u001b[0mapply_raw\u001b[0m\u001b[0;34m(\u001b[0m\u001b[0;34m)\u001b[0m\u001b[0;34m\u001b[0m\u001b[0;34m\u001b[0m\u001b[0m\n\u001b[1;32m    150\u001b[0m \u001b[0;34m\u001b[0m\u001b[0m\n\u001b[0;32m--> 151\u001b[0;31m         \u001b[0;32mreturn\u001b[0m \u001b[0mself\u001b[0m\u001b[0;34m.\u001b[0m\u001b[0mapply_standard\u001b[0m\u001b[0;34m(\u001b[0m\u001b[0;34m)\u001b[0m\u001b[0;34m\u001b[0m\u001b[0;34m\u001b[0m\u001b[0m\n\u001b[0m\u001b[1;32m    152\u001b[0m \u001b[0;34m\u001b[0m\u001b[0m\n\u001b[1;32m    153\u001b[0m     \u001b[0;32mdef\u001b[0m \u001b[0mapply_empty_result\u001b[0m\u001b[0;34m(\u001b[0m\u001b[0mself\u001b[0m\u001b[0;34m)\u001b[0m\u001b[0;34m:\u001b[0m\u001b[0;34m\u001b[0m\u001b[0;34m\u001b[0m\u001b[0m\n",
            "\u001b[0;32m/usr/local/lib/python3.6/dist-packages/pandas/core/apply.py\u001b[0m in \u001b[0;36mapply_standard\u001b[0;34m(self)\u001b[0m\n\u001b[1;32m    249\u001b[0m                                           \u001b[0maxis\u001b[0m\u001b[0;34m=\u001b[0m\u001b[0mself\u001b[0m\u001b[0;34m.\u001b[0m\u001b[0maxis\u001b[0m\u001b[0;34m,\u001b[0m\u001b[0;34m\u001b[0m\u001b[0;34m\u001b[0m\u001b[0m\n\u001b[1;32m    250\u001b[0m                                           \u001b[0mdummy\u001b[0m\u001b[0;34m=\u001b[0m\u001b[0mdummy\u001b[0m\u001b[0;34m,\u001b[0m\u001b[0;34m\u001b[0m\u001b[0;34m\u001b[0m\u001b[0m\n\u001b[0;32m--> 251\u001b[0;31m                                           labels=labels)\n\u001b[0m\u001b[1;32m    252\u001b[0m                 \u001b[0;32mreturn\u001b[0m \u001b[0mself\u001b[0m\u001b[0;34m.\u001b[0m\u001b[0mobj\u001b[0m\u001b[0;34m.\u001b[0m\u001b[0m_constructor_sliced\u001b[0m\u001b[0;34m(\u001b[0m\u001b[0mresult\u001b[0m\u001b[0;34m,\u001b[0m \u001b[0mindex\u001b[0m\u001b[0;34m=\u001b[0m\u001b[0mlabels\u001b[0m\u001b[0;34m)\u001b[0m\u001b[0;34m\u001b[0m\u001b[0;34m\u001b[0m\u001b[0m\n\u001b[1;32m    253\u001b[0m             \u001b[0;32mexcept\u001b[0m \u001b[0mException\u001b[0m\u001b[0;34m:\u001b[0m\u001b[0;34m\u001b[0m\u001b[0;34m\u001b[0m\u001b[0m\n",
            "\u001b[0;32mpandas/_libs/reduction.pyx\u001b[0m in \u001b[0;36mpandas._libs.reduction.reduce\u001b[0;34m()\u001b[0m\n",
            "\u001b[0;32mpandas/_libs/reduction.pyx\u001b[0m in \u001b[0;36mpandas._libs.reduction.Reducer.get_result\u001b[0;34m()\u001b[0m\n",
            "\u001b[0;32m/usr/local/lib/python3.6/dist-packages/pandas/core/internals/managers.py\u001b[0m in \u001b[0;36m_block\u001b[0;34m(self)\u001b[0m\n\u001b[1;32m   1486\u001b[0m         \u001b[0;32mpass\u001b[0m\u001b[0;34m\u001b[0m\u001b[0;34m\u001b[0m\u001b[0m\n\u001b[1;32m   1487\u001b[0m \u001b[0;34m\u001b[0m\u001b[0m\n\u001b[0;32m-> 1488\u001b[0;31m     \u001b[0;34m@\u001b[0m\u001b[0mproperty\u001b[0m\u001b[0;34m\u001b[0m\u001b[0;34m\u001b[0m\u001b[0m\n\u001b[0m\u001b[1;32m   1489\u001b[0m     \u001b[0;32mdef\u001b[0m \u001b[0m_block\u001b[0m\u001b[0;34m(\u001b[0m\u001b[0mself\u001b[0m\u001b[0;34m)\u001b[0m\u001b[0;34m:\u001b[0m\u001b[0;34m\u001b[0m\u001b[0;34m\u001b[0m\u001b[0m\n\u001b[1;32m   1490\u001b[0m         \u001b[0;32mreturn\u001b[0m \u001b[0mself\u001b[0m\u001b[0;34m.\u001b[0m\u001b[0mblocks\u001b[0m\u001b[0;34m[\u001b[0m\u001b[0;36m0\u001b[0m\u001b[0;34m]\u001b[0m\u001b[0;34m\u001b[0m\u001b[0;34m\u001b[0m\u001b[0m\n",
            "\u001b[0;31mKeyboardInterrupt\u001b[0m: "
          ]
        }
      ]
    },
    {
      "cell_type": "code",
      "metadata": {
        "id": "bLiS-OPtYPMJ",
        "colab_type": "code",
        "colab": {}
      },
      "source": [
        "x_tr = ['Quarter', 'Month', 'DayofMonth', 'DayOfWeek','CRSArrTime',\n",
        "       'FlightNum', 'Origin', 'DestAirportID', 'Dest','year','DepDelay',\n",
        "       'DewPointC', 'DewPointF', 'FeelsLikeC', 'FeelsLikeF', 'HeatIndexC',\n",
        "       'HeatIndexF', 'WindChillC', 'WindChillF', 'WindGustKmph',\n",
        "       'WindGustMiles', 'cloudcover', 'humidity', 'precipMM', 'pressure',\n",
        "       'tempC', 'tempF', 'time', 'visibility', 'weatherCode', 'winddir16Point',\n",
        "       'winddirDegree', 'windspeedKmph', 'windspeedMiles']\n",
        "X= data[x_tr]\n",
        "x_val = data[x_tr].iloc[:,:].values"
      ],
      "execution_count": 0,
      "outputs": []
    },
    {
      "cell_type": "code",
      "metadata": {
        "id": "oRSUMxua5D-7",
        "colab_type": "code",
        "colab": {}
      },
      "source": [
        "train['Origin'].unique()"
      ],
      "execution_count": 0,
      "outputs": []
    },
    {
      "cell_type": "code",
      "metadata": {
        "id": "unBtcmQYYPhK",
        "colab_type": "code",
        "colab": {}
      },
      "source": [
        "from sklearn.preprocessing import LabelEncoder, OneHotEncoder\n",
        "enc  = LabelEncoder()\n",
        "enc.fit(x_val[:,8].reshape(-1, 1) )\n",
        "c1=['d1']\n",
        "temp = pd.DataFrame(enc.transform(x_val[:,6]),columns = c1)\n",
        "X = pd.concat([X,temp],axis=1)\n",
        "X = X.drop(columns = ['Origin'])\n",
        "c2=['a1']\n",
        "temp = pd.DataFrame(enc.transform(x_val[:,8]),columns = c2)\n",
        "X = pd.concat([X,temp],axis=1)\n",
        "X = X.drop(columns = ['Dest'])\n",
        "X = X.drop(columns = ['winddir16Point'])\n",
        "X = X.drop(columns = ['DewPointF','FeelsLikeC','FeelsLikeF','HeatIndexF','WindChillF','WindGustMiles','tempF','windspeedMiles','Quarter'])\n",
        "x_val = X.iloc[:,:].values\n",
        "y = data['ArrDelay']\n",
        "y_val  = y.iloc[:].values"
      ],
      "execution_count": 0,
      "outputs": []
    },
    {
      "cell_type": "code",
      "metadata": {
        "id": "mnUXBcsLWs43",
        "colab_type": "code",
        "colab": {}
      },
      "source": [
        "sampler = SMO()\n",
        "X,y =  sampler.fit_resample(x_val,y_val)"
      ],
      "execution_count": 0,
      "outputs": []
    },
    {
      "cell_type": "code",
      "metadata": {
        "id": "ES9OYoduOLtM",
        "colab_type": "code",
        "colab": {}
      },
      "source": [
        "from sklearn.model_selection import train_test_split \n",
        "X_train, X_test, y_train, y_test = train_test_split(X, y, test_size=0.33, random_state=42)"
      ],
      "execution_count": 0,
      "outputs": []
    },
    {
      "cell_type": "code",
      "metadata": {
        "id": "J_RTPzpqON54",
        "colab_type": "code",
        "colab": {}
      },
      "source": [
        "from sklearn.model_selection import train_test_split \n",
        "X_train1, X_test1, y_train1, y_test1 = train_test_split(x_val, y_val, test_size=0.33, random_state=42)\n",
        "sampler = SMO()\n",
        "X_train1,y_train1 =  sampler.fit_resample(X_train1,y_train1)"
      ],
      "execution_count": 0,
      "outputs": []
    },
    {
      "cell_type": "code",
      "metadata": {
        "id": "DYqgFN1CZLgv",
        "colab_type": "code",
        "outputId": "cecc63e0-5f9e-408b-8d82-14b0b28bd622",
        "colab": {
          "base_uri": "https://localhost:8080/",
          "height": 140
        }
      },
      "source": [
        "from sklearn.ensemble import RandomForestClassifier\n",
        "classifier2 = RandomForestClassifier(n_estimators=10)\n",
        "classifier2.fit(X_train1,y_train1)"
      ],
      "execution_count": 0,
      "outputs": [
        {
          "output_type": "execute_result",
          "data": {
            "text/plain": [
              "RandomForestClassifier(bootstrap=True, class_weight=None, criterion='gini',\n",
              "                       max_depth=None, max_features='auto', max_leaf_nodes=None,\n",
              "                       min_impurity_decrease=0.0, min_impurity_split=None,\n",
              "                       min_samples_leaf=1, min_samples_split=2,\n",
              "                       min_weight_fraction_leaf=0.0, n_estimators=10,\n",
              "                       n_jobs=None, oob_score=False, random_state=None,\n",
              "                       verbose=0, warm_start=False)"
            ]
          },
          "metadata": {
            "tags": []
          },
          "execution_count": 13
        }
      ]
    },
    {
      "cell_type": "code",
      "metadata": {
        "id": "Hcq7HZrLZiti",
        "colab_type": "code",
        "outputId": "a1eb6abe-6cce-4660-ddbc-254b7d6e6148",
        "colab": {
          "base_uri": "https://localhost:8080/",
          "height": 193
        }
      },
      "source": [
        "print(classifier2.score(X_test1, y_test1, sample_weight=None))\n",
        "from sklearn.metrics import classification_report\n",
        "y_pred = classifier2.predict(X_test1)\n",
        "print(classification_report(y_true=y_test1,y_pred = y_pred))"
      ],
      "execution_count": 0,
      "outputs": [
        {
          "output_type": "stream",
          "text": [
            "0.9122666151200194\n",
            "              precision    recall  f1-score   support\n",
            "\n",
            "           0       0.93      0.97      0.95    478773\n",
            "           1       0.85      0.71      0.77    126504\n",
            "\n",
            "    accuracy                           0.91    605277\n",
            "   macro avg       0.89      0.84      0.86    605277\n",
            "weighted avg       0.91      0.91      0.91    605277\n",
            "\n"
          ],
          "name": "stdout"
        }
      ]
    },
    {
      "cell_type": "code",
      "metadata": {
        "id": "z0b4tVraOwPY",
        "colab_type": "code",
        "outputId": "327684c5-842b-4035-ddf9-53e494e82d62",
        "colab": {
          "base_uri": "https://localhost:8080/",
          "height": 193
        }
      },
      "source": [
        "from sklearn.ensemble import RandomForestClassifier\n",
        "classifier2 = RandomForestClassifier(n_estimators=10)\n",
        "classifier2.fit(X_train,y_train)\n",
        "print(classifier2.score(X_test, y_test, sample_weight=None))\n",
        "from sklearn.metrics import classification_report\n",
        "y_pred = classifier2.predict(X_test)\n",
        "print(classification_report(y_true=y_test,y_pred = y_pred))"
      ],
      "execution_count": 0,
      "outputs": [
        {
          "output_type": "stream",
          "text": [
            "0.9391521545949412\n",
            "              precision    recall  f1-score   support\n",
            "\n",
            "           0       0.92      0.97      0.94    478209\n",
            "           1       0.96      0.91      0.94    479442\n",
            "\n",
            "    accuracy                           0.94    957651\n",
            "   macro avg       0.94      0.94      0.94    957651\n",
            "weighted avg       0.94      0.94      0.94    957651\n",
            "\n"
          ],
          "name": "stdout"
        }
      ]
    },
    {
      "cell_type": "code",
      "metadata": {
        "id": "ClOg7-Ao8krM",
        "colab_type": "code",
        "outputId": "43cb4f5a-436f-4678-a0d7-31dd0bfcbdc5",
        "colab": {
          "base_uri": "https://localhost:8080/",
          "height": 193
        }
      },
      "source": [
        "from sklearn.ensemble import GradientBoostingClassifier as GBC\n",
        "classifier3 = GBC(n_estimators= 30)\n",
        "classifier3.fit(X_train1,y_train1)"
      ],
      "execution_count": 0,
      "outputs": [
        {
          "output_type": "execute_result",
          "data": {
            "text/plain": [
              "GradientBoostingClassifier(criterion='friedman_mse', init=None,\n",
              "                           learning_rate=0.1, loss='deviance', max_depth=3,\n",
              "                           max_features=None, max_leaf_nodes=None,\n",
              "                           min_impurity_decrease=0.0, min_impurity_split=None,\n",
              "                           min_samples_leaf=1, min_samples_split=2,\n",
              "                           min_weight_fraction_leaf=0.0, n_estimators=30,\n",
              "                           n_iter_no_change=None, presort='auto',\n",
              "                           random_state=None, subsample=1.0, tol=0.0001,\n",
              "                           validation_fraction=0.1, verbose=0,\n",
              "                           warm_start=False)"
            ]
          },
          "metadata": {
            "tags": []
          },
          "execution_count": 17
        }
      ]
    },
    {
      "cell_type": "code",
      "metadata": {
        "id": "gGxslpat9Db0",
        "colab_type": "code",
        "outputId": "655d430b-5d22-4e9e-e901-150731e47870",
        "colab": {
          "base_uri": "https://localhost:8080/",
          "height": 193
        }
      },
      "source": [
        "print(classifier3.score(X_test1, y_test1, sample_weight=None))\n",
        "from sklearn.metrics import classification_report\n",
        "y_pred1 = classifier3.predict(X_test1)\n",
        "print(classification_report(y_true=y_test1,y_pred = y_pred1))"
      ],
      "execution_count": 0,
      "outputs": [
        {
          "output_type": "stream",
          "text": [
            "0.8964474116809329\n",
            "              precision    recall  f1-score   support\n",
            "\n",
            "           0       0.94      0.93      0.93    478773\n",
            "           1       0.74      0.77      0.76    126504\n",
            "\n",
            "    accuracy                           0.90    605277\n",
            "   macro avg       0.84      0.85      0.85    605277\n",
            "weighted avg       0.90      0.90      0.90    605277\n",
            "\n"
          ],
          "name": "stdout"
        }
      ]
    },
    {
      "cell_type": "code",
      "metadata": {
        "id": "NbRXas2AP0f9",
        "colab_type": "code",
        "outputId": "7ba1f464-c2db-4d82-81cb-7f24a5e7d8b8",
        "colab": {
          "base_uri": "https://localhost:8080/",
          "height": 193
        }
      },
      "source": [
        "classifier3 = GBC(n_estimators= 30)\n",
        "classifier3.fit(X_train,y_train)\n",
        "print(classifier3.score(X_test, y_test, sample_weight=None))\n",
        "from sklearn.metrics import classification_report\n",
        "y_pred1 = classifier3.predict(X_test)\n",
        "print(classification_report(y_true=y_test,y_pred = y_pred))"
      ],
      "execution_count": 0,
      "outputs": [
        {
          "output_type": "stream",
          "text": [
            "0.8943842798681356\n",
            "              precision    recall  f1-score   support\n",
            "\n",
            "           0       0.92      0.97      0.94    478209\n",
            "           1       0.96      0.91      0.94    479442\n",
            "\n",
            "    accuracy                           0.94    957651\n",
            "   macro avg       0.94      0.94      0.94    957651\n",
            "weighted avg       0.94      0.94      0.94    957651\n",
            "\n"
          ],
          "name": "stdout"
        }
      ]
    },
    {
      "cell_type": "code",
      "metadata": {
        "id": "hFV6rX8W-hzT",
        "colab_type": "code",
        "outputId": "f796d0b3-0812-43ec-b92d-7a4b69712957",
        "colab": {
          "base_uri": "https://localhost:8080/",
          "height": 140
        }
      },
      "source": [
        "from sklearn.ensemble import ExtraTreesClassifier as ETC\n",
        "classifier4 = ETC(n_estimators = 30)\n",
        "classifier4.fit(X_train1,y_train1)"
      ],
      "execution_count": 0,
      "outputs": [
        {
          "output_type": "execute_result",
          "data": {
            "text/plain": [
              "ExtraTreesClassifier(bootstrap=False, class_weight=None, criterion='gini',\n",
              "                     max_depth=None, max_features='auto', max_leaf_nodes=None,\n",
              "                     min_impurity_decrease=0.0, min_impurity_split=None,\n",
              "                     min_samples_leaf=1, min_samples_split=2,\n",
              "                     min_weight_fraction_leaf=0.0, n_estimators=30, n_jobs=None,\n",
              "                     oob_score=False, random_state=None, verbose=0,\n",
              "                     warm_start=False)"
            ]
          },
          "metadata": {
            "tags": []
          },
          "execution_count": 21
        }
      ]
    },
    {
      "cell_type": "code",
      "metadata": {
        "id": "H9TNTl9X-3f0",
        "colab_type": "code",
        "outputId": "0539b774-ace6-4057-9825-8c822700b26b",
        "colab": {
          "base_uri": "https://localhost:8080/",
          "height": 193
        }
      },
      "source": [
        "print(classifier4.score(X_test1, y_test1, sample_weight=None))\n",
        "from sklearn.metrics import classification_report\n",
        "y_pred1 = classifier4.predict(X_test1)\n",
        "print(classification_report(y_true=y_test1,y_pred = y_pred1))"
      ],
      "execution_count": 0,
      "outputs": [
        {
          "output_type": "stream",
          "text": [
            "0.9037498533729185\n",
            "              precision    recall  f1-score   support\n",
            "\n",
            "           0       0.92      0.97      0.94    478773\n",
            "           1       0.84      0.66      0.74    126504\n",
            "\n",
            "    accuracy                           0.90    605277\n",
            "   macro avg       0.88      0.81      0.84    605277\n",
            "weighted avg       0.90      0.90      0.90    605277\n",
            "\n"
          ],
          "name": "stdout"
        }
      ]
    },
    {
      "cell_type": "code",
      "metadata": {
        "id": "ULQVuY6iQhU2",
        "colab_type": "code",
        "outputId": "2a90c3be-f3a8-40d1-a6a9-5a9a0ee28eda",
        "colab": {
          "base_uri": "https://localhost:8080/",
          "height": 193
        }
      },
      "source": [
        "from sklearn.ensemble import ExtraTreesClassifier as ETC\n",
        "classifier4 = ETC(n_estimators = 30)\n",
        "classifier4.fit(X_train,y_train)\n",
        "print(classifier4.score(X_test, y_test, sample_weight=None))\n",
        "from sklearn.metrics import classification_report\n",
        "y_pred1 = classifier4.predict(X_test)\n",
        "print(classification_report(y_true=y_test,y_pred = y_pred1))"
      ],
      "execution_count": 0,
      "outputs": [
        {
          "output_type": "stream",
          "text": [
            "0.9417815049532658\n",
            "              precision    recall  f1-score   support\n",
            "\n",
            "           0       0.92      0.97      0.94    478209\n",
            "           1       0.96      0.92      0.94    479442\n",
            "\n",
            "    accuracy                           0.94    957651\n",
            "   macro avg       0.94      0.94      0.94    957651\n",
            "weighted avg       0.94      0.94      0.94    957651\n",
            "\n"
          ],
          "name": "stdout"
        }
      ]
    },
    {
      "cell_type": "code",
      "metadata": {
        "id": "1Mx0yQRLAPyJ",
        "colab_type": "code",
        "colab": {}
      },
      "source": [
        "from sklearn import svm\n",
        "classifier5 = svm.SVC(gamma='scale')\n",
        "classifier5.fit(X_train1,y_train1)"
      ],
      "execution_count": 0,
      "outputs": []
    },
    {
      "cell_type": "code",
      "metadata": {
        "id": "4pn8mROyAq-9",
        "colab_type": "code",
        "colab": {}
      },
      "source": [
        "print(classifier5.score(X_test1, y_test1, sample_weight=None))\n",
        "from sklearn.metrics import classification_report\n",
        "y_pred1 = classifier5.predict(X_test1)\n",
        "print(classification_report(y_true=y_test1,y_pred = y_pred1))"
      ],
      "execution_count": 0,
      "outputs": []
    },
    {
      "cell_type": "code",
      "metadata": {
        "id": "MGUDid-mQ-2v",
        "colab_type": "code",
        "colab": {}
      },
      "source": [
        "from sklearn import svm\n",
        "classifier5 = svm.SVC(gamma='scale')\n",
        "classifier5.fit(X_train,y_train)\n",
        "print(classifier5.score(X_test, y_test, sample_weight=None))\n",
        "from sklearn.metrics import classification_report\n",
        "y_pred1 = classifier5.predict(X_test)\n",
        "print(classification_report(y_true=y_test,y_pred = y_pred1))"
      ],
      "execution_count": 0,
      "outputs": []
    },
    {
      "cell_type": "code",
      "metadata": {
        "id": "uAK3LI0tBS8L",
        "colab_type": "code",
        "outputId": "122bb1bd-5b7a-4f23-9b7e-1116fca42d2e",
        "colab": {
          "base_uri": "https://localhost:8080/",
          "height": 140
        }
      },
      "source": [
        "from xgboost import XGBClassifier\n",
        "model = XGBClassifier(max_depth  = 8, base_score = 0.5,learning_rate = 0.2)\n",
        "model.fit(X_train1, y_train1)"
      ],
      "execution_count": 0,
      "outputs": [
        {
          "output_type": "execute_result",
          "data": {
            "text/plain": [
              "XGBClassifier(base_score=0.5, booster='gbtree', colsample_bylevel=1,\n",
              "              colsample_bynode=1, colsample_bytree=1, gamma=0,\n",
              "              learning_rate=0.2, max_delta_step=0, max_depth=8,\n",
              "              min_child_weight=1, missing=None, n_estimators=100, n_jobs=1,\n",
              "              nthread=None, objective='binary:logistic', random_state=0,\n",
              "              reg_alpha=0, reg_lambda=1, scale_pos_weight=1, seed=None,\n",
              "              silent=None, subsample=1, verbosity=1)"
            ]
          },
          "metadata": {
            "tags": []
          },
          "execution_count": 15
        }
      ]
    },
    {
      "cell_type": "code",
      "metadata": {
        "id": "80w0jv0eD0t5",
        "colab_type": "code",
        "outputId": "b516cd9d-89bd-47ca-bbac-282b446bb445",
        "colab": {
          "base_uri": "https://localhost:8080/",
          "height": 193
        }
      },
      "source": [
        "from sklearn.metrics import accuracy_score\n",
        "from sklearn.metrics import classification_report\n",
        "y_pred = model.predict(X_test1)\n",
        "accuracy = accuracy_score(y_test1, y_pred)\n",
        "print(\"Accuracy: %.2f%%\" % (accuracy * 100.0))\n",
        "y_pred1 = model.predict(X_test1)\n",
        "print(classification_report(y_true=y_test1,y_pred = y_pred1))"
      ],
      "execution_count": 0,
      "outputs": [
        {
          "output_type": "stream",
          "text": [
            "Accuracy: 90.31%\n",
            "              precision    recall  f1-score   support\n",
            "\n",
            "           0       0.94      0.94      0.94    478773\n",
            "           1       0.78      0.75      0.76    126504\n",
            "\n",
            "    accuracy                           0.90    605277\n",
            "   macro avg       0.86      0.85      0.85    605277\n",
            "weighted avg       0.90      0.90      0.90    605277\n",
            "\n"
          ],
          "name": "stdout"
        }
      ]
    },
    {
      "cell_type": "code",
      "metadata": {
        "id": "mxZ4ObKRT7vC",
        "colab_type": "code",
        "outputId": "e3d34b8f-3c58-4912-b087-24e45e60da20",
        "colab": {
          "base_uri": "https://localhost:8080/",
          "height": 193
        }
      },
      "source": [
        "from xgboost import XGBClassifier\n",
        "model = XGBClassifier(max_depth  = 8, base_score = 0.5,learning_rate = 0.2)\n",
        "model.fit(X_train, y_train)\n",
        "from sklearn.metrics import accuracy_score\n",
        "y_pred = model.predict(X_test)\n",
        "accuracy = accuracy_score(y_test, y_pred)\n",
        "print(\"Accuracy: %.2f%%\" % (accuracy * 100.0))\n",
        "y_pred1 = model.predict(X_test)\n",
        "print(classification_report(y_true=y_test,y_pred = y_pred))"
      ],
      "execution_count": 0,
      "outputs": [
        {
          "output_type": "stream",
          "text": [
            "Accuracy: 91.97%\n",
            "              precision    recall  f1-score   support\n",
            "\n",
            "           0       0.92      0.98      0.95    478773\n",
            "           1       0.90      0.69      0.78    126504\n",
            "\n",
            "    accuracy                           0.92    605277\n",
            "   macro avg       0.91      0.84      0.87    605277\n",
            "weighted avg       0.92      0.92      0.92    605277\n",
            "\n"
          ],
          "name": "stdout"
        }
      ]
    },
    {
      "cell_type": "code",
      "metadata": {
        "id": "hNQfPS-iSO0_",
        "colab_type": "code",
        "colab": {}
      },
      "source": [
        ""
      ],
      "execution_count": 0,
      "outputs": []
    },
    {
      "cell_type": "code",
      "metadata": {
        "id": "ickaj2aiSf3z",
        "colab_type": "code",
        "colab": {}
      },
      "source": [
        ""
      ],
      "execution_count": 0,
      "outputs": []
    }
  ]
}