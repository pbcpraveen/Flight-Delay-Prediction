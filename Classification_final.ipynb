{
  "nbformat": 4,
  "nbformat_minor": 0,
  "metadata": {
    "colab": {
      "name": "Classification_final.ipynb",
      "version": "0.3.2",
      "provenance": [],
      "collapsed_sections": []
    },
    "kernelspec": {
      "name": "python3",
      "display_name": "Python 3"
    },
    "accelerator": "GPU"
  },
  "cells": [
    {
      "cell_type": "code",
      "metadata": {
        "id": "jwCGnB7dWKUt",
        "colab_type": "code",
        "outputId": "1f855cf3-240b-4b52-e96c-cef45f772118",
        "colab": {
          "base_uri": "https://localhost:8080/",
          "height": 72
        }
      },
      "source": [
        "import numpy as np\n",
        "import pandas as pd\n",
        "from imblearn.over_sampling import RandomOverSampler as ROS\n",
        "from imblearn.over_sampling import SMOTE as SMO"
      ],
      "execution_count": 0,
      "outputs": [
        {
          "output_type": "stream",
          "text": [
            "/usr/local/lib/python3.6/dist-packages/sklearn/externals/six.py:31: DeprecationWarning: The module is deprecated in version 0.21 and will be removed in version 0.23 since we've dropped support for Python 2.7. Please rely on the official version of six (https://pypi.org/project/six/).\n",
            "  \"(https://pypi.org/project/six/).\", DeprecationWarning)\n"
          ],
          "name": "stderr"
        }
      ]
    },
    {
      "cell_type": "code",
      "metadata": {
        "id": "A_s-SEe7Wart",
        "colab_type": "code",
        "outputId": "15518f5f-5ca6-4426-cfd8-74ad1da2f0f2",
        "colab": {
          "base_uri": "https://localhost:8080/",
          "height": 34
        }
      },
      "source": [
        "from google.colab import drive\n",
        "drive.mount('/content/gdrive')\n"
      ],
      "execution_count": 0,
      "outputs": [
        {
          "output_type": "stream",
          "text": [
            "Drive already mounted at /content/gdrive; to attempt to forcibly remount, call drive.mount(\"/content/gdrive\", force_remount=True).\n"
          ],
          "name": "stdout"
        }
      ]
    },
    {
      "cell_type": "code",
      "metadata": {
        "id": "CcUi-KGjWjMB",
        "colab_type": "code",
        "colab": {}
      },
      "source": [
        "train =pd.read_csv('/content/gdrive/My Drive/ML/Training_x.csv',sep='\\t', encoding='utf-8')\n",
        "test = pd.read_csv('/content/gdrive/My Drive/ML/Testing_x.csv',sep='\\t', encoding='utf-8')\n"
      ],
      "execution_count": 0,
      "outputs": []
    },
    {
      "cell_type": "code",
      "metadata": {
        "id": "jAszDh-eAD8c",
        "colab_type": "code",
        "outputId": "7d1d19c6-370f-429a-e977-9eea46a952f8",
        "colab": {
          "base_uri": "https://localhost:8080/",
          "height": 844
        }
      },
      "source": [
        "train.info()"
      ],
      "execution_count": 0,
      "outputs": [
        {
          "output_type": "stream",
          "text": [
            "<class 'pandas.core.frame.DataFrame'>\n",
            "RangeIndex: 1467214 entries, 0 to 1467213\n",
            "Data columns (total 42 columns):\n",
            "Unnamed: 0         1467214 non-null int64\n",
            "Quarter            1467214 non-null float64\n",
            "Month              1467214 non-null int64\n",
            "DayofMonth         1467214 non-null int64\n",
            "DayOfWeek          1467214 non-null float64\n",
            "FlightNum          1467214 non-null float64\n",
            "Origin             1467214 non-null object\n",
            "DestAirportID      1467214 non-null float64\n",
            "Dest               1467214 non-null object\n",
            "CRSDepTime         1467214 non-null int64\n",
            "DepTime            1467214 non-null float64\n",
            "DepDelay           1467214 non-null float64\n",
            "DepDelayMinutes    1467214 non-null float64\n",
            "DepDel15           1467214 non-null float64\n",
            "CRSArrTime         1467214 non-null float64\n",
            "ArrTime            1467214 non-null float64\n",
            "ArrDelayMinutes    1467214 non-null float64\n",
            "ArrDel15           1467214 non-null float64\n",
            "year               1467214 non-null int64\n",
            "DewPointC          1467214 non-null float64\n",
            "DewPointF          1467214 non-null float64\n",
            "FeelsLikeC         1467214 non-null float64\n",
            "FeelsLikeF         1467214 non-null float64\n",
            "HeatIndexC         1467214 non-null float64\n",
            "HeatIndexF         1467214 non-null float64\n",
            "WindChillC         1467214 non-null float64\n",
            "WindChillF         1467214 non-null float64\n",
            "WindGustKmph       1467214 non-null float64\n",
            "WindGustMiles      1467214 non-null float64\n",
            "cloudcover         1467214 non-null float64\n",
            "humidity           1467214 non-null float64\n",
            "precipMM           1467214 non-null float64\n",
            "pressure           1467214 non-null float64\n",
            "tempC              1467214 non-null float64\n",
            "tempF              1467214 non-null float64\n",
            "time               1467214 non-null float64\n",
            "visibility         1467214 non-null float64\n",
            "weatherCode        1467214 non-null float64\n",
            "winddir16Point     1467214 non-null object\n",
            "winddirDegree      1467214 non-null float64\n",
            "windspeedKmph      1467214 non-null float64\n",
            "windspeedMiles     1467214 non-null float64\n",
            "dtypes: float64(34), int64(5), object(3)\n",
            "memory usage: 470.1+ MB\n"
          ],
          "name": "stdout"
        }
      ]
    },
    {
      "cell_type": "code",
      "metadata": {
        "id": "k3i5zdT9WmUn",
        "colab_type": "code",
        "colab": {}
      },
      "source": [
        "data = pd.concat([train,test],axis = 0)\n",
        "data = data.reset_index()\n",
        "data = data.drop(columns = ['index'])"
      ],
      "execution_count": 0,
      "outputs": []
    },
    {
      "cell_type": "code",
      "metadata": {
        "id": "iHxE2COlJ6CL",
        "colab_type": "code",
        "colab": {}
      },
      "source": [
        "data['isDelay'] = 0\n",
        "\n",
        "def func(row):\n",
        "    if row['DepDel15']>0:\n",
        "        return 1\n",
        "    else:\n",
        "        return 0\n",
        "\n",
        "data['isDelay'] = data.apply(func, axis=1)\n"
      ],
      "execution_count": 0,
      "outputs": []
    },
    {
      "cell_type": "code",
      "metadata": {
        "id": "Kxni2Y6k39-c",
        "colab_type": "code",
        "outputId": "80916c81-ab6b-4760-8f57-c258291fd8a7",
        "colab": {
          "base_uri": "https://localhost:8080/",
          "height": 34
        }
      },
      "source": [
        "len(data)"
      ],
      "execution_count": 0,
      "outputs": [
        {
          "output_type": "execute_result",
          "data": {
            "text/plain": [
              "1834018"
            ]
          },
          "metadata": {
            "tags": []
          },
          "execution_count": 7
        }
      ]
    },
    {
      "cell_type": "code",
      "metadata": {
        "id": "AXifLHi72aLX",
        "colab_type": "code",
        "colab": {}
      },
      "source": [
        "data['isDelay'].plot(kind='pie', subplots=True, figsize=(8, 8))\n"
      ],
      "execution_count": 0,
      "outputs": []
    },
    {
      "cell_type": "code",
      "metadata": {
        "id": "bLiS-OPtYPMJ",
        "colab_type": "code",
        "colab": {}
      },
      "source": [
        "x_tr = ['Quarter', 'Month', 'DayofMonth', 'DayOfWeek','CRSDepTime',\n",
        "       'FlightNum', 'Origin', 'DestAirportID', 'Dest','year',\n",
        "       'DewPointC', 'DewPointF', 'FeelsLikeC', 'FeelsLikeF', 'HeatIndexC',\n",
        "       'HeatIndexF', 'WindChillC', 'WindChillF', 'WindGustKmph',\n",
        "       'WindGustMiles', 'cloudcover', 'humidity', 'precipMM', 'pressure',\n",
        "       'tempC', 'tempF', 'time', 'visibility', 'weatherCode', 'winddir16Point',\n",
        "       'winddirDegree', 'windspeedKmph', 'windspeedMiles']\n",
        "X= data[x_tr]\n",
        "x_val = data[x_tr].iloc[:,:].values"
      ],
      "execution_count": 0,
      "outputs": []
    },
    {
      "cell_type": "code",
      "metadata": {
        "id": "xcF56lSYI1K5",
        "colab_type": "code",
        "colab": {}
      },
      "source": [
        "x_val[0]"
      ],
      "execution_count": 0,
      "outputs": []
    },
    {
      "cell_type": "code",
      "metadata": {
        "id": "unBtcmQYYPhK",
        "colab_type": "code",
        "outputId": "25023e27-5135-40a4-ced5-e7c85f1f723e",
        "colab": {
          "base_uri": "https://localhost:8080/",
          "height": 72
        }
      },
      "source": [
        "from sklearn.preprocessing import LabelEncoder, OneHotEncoder\n",
        "enc  = LabelEncoder()\n",
        "enc.fit(x_val[:,8].reshape(-1, 1) )\n",
        "c1=['d1']\n",
        "temp = pd.DataFrame(enc.transform(x_val[:,6]),columns = c1)\n",
        "X = pd.concat([X,temp],axis=1)\n",
        "X = X.drop(columns = ['Origin'])\n",
        "c2=['a1']\n",
        "temp = pd.DataFrame(enc.transform(x_val[:,8]),columns = c2)\n",
        "X = pd.concat([X,temp],axis=1)\n",
        "X = X.drop(columns = ['Dest'])\n",
        "X = X.drop(columns = ['winddir16Point'])\n",
        "X = X.drop(columns = ['DewPointF','FeelsLikeC','FeelsLikeF','HeatIndexF','WindChillF','WindGustMiles','tempF','windspeedMiles','Quarter'])\n",
        "x_val = X.iloc[:,:].values\n",
        "y = data['isDelay']\n",
        "y_val  = y.iloc[:].values"
      ],
      "execution_count": 0,
      "outputs": [
        {
          "output_type": "stream",
          "text": [
            "/usr/local/lib/python3.6/dist-packages/sklearn/preprocessing/label.py:219: DataConversionWarning: A column-vector y was passed when a 1d array was expected. Please change the shape of y to (n_samples, ), for example using ravel().\n",
            "  y = column_or_1d(y, warn=True)\n"
          ],
          "name": "stderr"
        }
      ]
    },
    {
      "cell_type": "code",
      "metadata": {
        "id": "mnUXBcsLWs43",
        "colab_type": "code",
        "colab": {}
      },
      "source": [
        "sampler = SMO()"
      ],
      "execution_count": 0,
      "outputs": []
    },
    {
      "cell_type": "code",
      "metadata": {
        "id": "AUWwuBIqXqef",
        "colab_type": "code",
        "colab": {}
      },
      "source": [
        "x_val,y_val =  sampler.fit_resample(x_val,y_val)"
      ],
      "execution_count": 0,
      "outputs": []
    },
    {
      "cell_type": "code",
      "metadata": {
        "id": "w8-LWLV2LPtx",
        "colab_type": "code",
        "colab": {}
      },
      "source": [
        "from sklearn.model_selection import train_test_split \n",
        "X_train, X_test, y_train, y_test = train_test_split(x_val, y_val, test_size=0.33, random_state=42)"
      ],
      "execution_count": 0,
      "outputs": []
    },
    {
      "cell_type": "code",
      "metadata": {
        "id": "e1z0b_yzObnS",
        "colab_type": "code",
        "colab": {}
      },
      "source": [
        "del X\n",
        "del y\n",
        "del train\n",
        "del test\n",
        "del data"
      ],
      "execution_count": 0,
      "outputs": []
    },
    {
      "cell_type": "code",
      "metadata": {
        "id": "DYqgFN1CZLgv",
        "colab_type": "code",
        "outputId": "be57a8dc-a6cd-4211-8c19-c005a0c89e79",
        "colab": {
          "base_uri": "https://localhost:8080/",
          "height": 140
        }
      },
      "source": [
        "from sklearn.ensemble import RandomForestClassifier\n",
        "classifier2 = RandomForestClassifier(n_estimators=10)\n",
        "classifier2.fit(X_train,y_train)"
      ],
      "execution_count": 0,
      "outputs": [
        {
          "output_type": "execute_result",
          "data": {
            "text/plain": [
              "RandomForestClassifier(bootstrap=True, class_weight=None, criterion='gini',\n",
              "                       max_depth=None, max_features='auto', max_leaf_nodes=None,\n",
              "                       min_impurity_decrease=0.0, min_impurity_split=None,\n",
              "                       min_samples_leaf=1, min_samples_split=2,\n",
              "                       min_weight_fraction_leaf=0.0, n_estimators=10,\n",
              "                       n_jobs=None, oob_score=False, random_state=None,\n",
              "                       verbose=0, warm_start=False)"
            ]
          },
          "metadata": {
            "tags": []
          },
          "execution_count": 37
        }
      ]
    },
    {
      "cell_type": "code",
      "metadata": {
        "id": "Hcq7HZrLZiti",
        "colab_type": "code",
        "outputId": "fa337df3-3076-4869-e3d0-a492f7a5a52f",
        "colab": {
          "base_uri": "https://localhost:8080/",
          "height": 193
        }
      },
      "source": [
        "print(classifier2.score(X_test, y_test, sample_weight=None))\n",
        "from sklearn.metrics import classification_report\n",
        "y_pred1 = classifier2.predict(X_test)\n",
        "print(classification_report(y_true=y_test,y_pred = y_pred1))"
      ],
      "execution_count": 0,
      "outputs": [
        {
          "output_type": "stream",
          "text": [
            "0.8514230434122035\n",
            "              precision    recall  f1-score   support\n",
            "\n",
            "           0       0.82      0.90      0.86    483269\n",
            "           1       0.89      0.80      0.84    484270\n",
            "\n",
            "    accuracy                           0.85    967539\n",
            "   macro avg       0.85      0.85      0.85    967539\n",
            "weighted avg       0.85      0.85      0.85    967539\n",
            "\n"
          ],
          "name": "stdout"
        }
      ]
    },
    {
      "cell_type": "code",
      "metadata": {
        "id": "oDlXiwxS8d2T",
        "colab_type": "code",
        "colab": {}
      },
      "source": [
        "\n",
        "from sklearn.ensemble import GradientBoostingClassifier as GBC"
      ],
      "execution_count": 0,
      "outputs": []
    },
    {
      "cell_type": "code",
      "metadata": {
        "id": "ClOg7-Ao8krM",
        "colab_type": "code",
        "outputId": "81ff96c3-086e-4702-e6ca-4d042c05c08d",
        "colab": {
          "base_uri": "https://localhost:8080/",
          "height": 193
        }
      },
      "source": [
        "classifier3 = GBC(n_estimators= 30)\n",
        "classifier3.fit(X_train,y_train)"
      ],
      "execution_count": 0,
      "outputs": [
        {
          "output_type": "execute_result",
          "data": {
            "text/plain": [
              "GradientBoostingClassifier(criterion='friedman_mse', init=None,\n",
              "                           learning_rate=0.1, loss='deviance', max_depth=3,\n",
              "                           max_features=None, max_leaf_nodes=None,\n",
              "                           min_impurity_decrease=0.0, min_impurity_split=None,\n",
              "                           min_samples_leaf=1, min_samples_split=2,\n",
              "                           min_weight_fraction_leaf=0.0, n_estimators=30,\n",
              "                           n_iter_no_change=None, presort='auto',\n",
              "                           random_state=None, subsample=1.0, tol=0.0001,\n",
              "                           validation_fraction=0.1, verbose=0,\n",
              "                           warm_start=False)"
            ]
          },
          "metadata": {
            "tags": []
          },
          "execution_count": 41
        }
      ]
    },
    {
      "cell_type": "code",
      "metadata": {
        "id": "gGxslpat9Db0",
        "colab_type": "code",
        "outputId": "4ac66b04-86e9-4539-8d02-df2185411105",
        "colab": {
          "base_uri": "https://localhost:8080/",
          "height": 193
        }
      },
      "source": [
        "print(classifier3.score(X_test, y_test, sample_weight=None))\n",
        "from sklearn.metrics import classification_report\n",
        "y_pred1 = classifier3.predict(X_test)\n",
        "print(classification_report(y_true=y_test,y_pred = y_pred1))"
      ],
      "execution_count": 0,
      "outputs": [
        {
          "output_type": "stream",
          "text": [
            "0.8295923988593742\n",
            "              precision    recall  f1-score   support\n",
            "\n",
            "           0       0.77      0.94      0.85    483269\n",
            "           1       0.93      0.72      0.81    484270\n",
            "\n",
            "    accuracy                           0.83    967539\n",
            "   macro avg       0.85      0.83      0.83    967539\n",
            "weighted avg       0.85      0.83      0.83    967539\n",
            "\n"
          ],
          "name": "stdout"
        }
      ]
    },
    {
      "cell_type": "code",
      "metadata": {
        "id": "hFV6rX8W-hzT",
        "colab_type": "code",
        "outputId": "ef8c240e-5b11-465c-96c7-339128125c65",
        "colab": {
          "base_uri": "https://localhost:8080/",
          "height": 140
        }
      },
      "source": [
        "from sklearn.ensemble import ExtraTreesClassifier as ETC\n",
        "classifier4 = ETC(n_estimators = 30)\n",
        "classifier4.fit(X_train,y_train)"
      ],
      "execution_count": 0,
      "outputs": [
        {
          "output_type": "execute_result",
          "data": {
            "text/plain": [
              "ExtraTreesClassifier(bootstrap=False, class_weight=None, criterion='gini',\n",
              "                     max_depth=None, max_features='auto', max_leaf_nodes=None,\n",
              "                     min_impurity_decrease=0.0, min_impurity_split=None,\n",
              "                     min_samples_leaf=1, min_samples_split=2,\n",
              "                     min_weight_fraction_leaf=0.0, n_estimators=30, n_jobs=None,\n",
              "                     oob_score=False, random_state=None, verbose=0,\n",
              "                     warm_start=False)"
            ]
          },
          "metadata": {
            "tags": []
          },
          "execution_count": 15
        }
      ]
    },
    {
      "cell_type": "code",
      "metadata": {
        "id": "H9TNTl9X-3f0",
        "colab_type": "code",
        "outputId": "25e9f339-37a4-4f96-cb09-e6cce5de40a6",
        "colab": {
          "base_uri": "https://localhost:8080/",
          "height": 193
        }
      },
      "source": [
        "print(classifier4.score(X_test, y_test, sample_weight=None))\n",
        "from sklearn.metrics import classification_report\n",
        "y_pred1 = classifier4.predict(X_test)\n",
        "print(classification_report(y_true=y_test,y_pred = y_pred1))"
      ],
      "execution_count": 0,
      "outputs": [
        {
          "output_type": "stream",
          "text": [
            "0.8406493174952121\n",
            "              precision    recall  f1-score   support\n",
            "\n",
            "           0       0.83      0.86      0.84    483269\n",
            "           1       0.85      0.82      0.84    484270\n",
            "\n",
            "    accuracy                           0.84    967539\n",
            "   macro avg       0.84      0.84      0.84    967539\n",
            "weighted avg       0.84      0.84      0.84    967539\n",
            "\n"
          ],
          "name": "stdout"
        }
      ]
    },
    {
      "cell_type": "code",
      "metadata": {
        "id": "1Mx0yQRLAPyJ",
        "colab_type": "code",
        "colab": {}
      },
      "source": [
        "from sklearn import svm\n",
        "classifier5 = svm.SVC(gamma='scale')\n",
        "classifier5.fit(X_res,y_res)"
      ],
      "execution_count": 0,
      "outputs": []
    },
    {
      "cell_type": "code",
      "metadata": {
        "id": "4pn8mROyAq-9",
        "colab_type": "code",
        "colab": {}
      },
      "source": [
        "print(classifier5.score(x_test_val, y_tst, sample_weight=None))\n",
        "from sklearn.metrics import classification_report\n",
        "y_pred1 = classifier5.predict(x_test_val)\n",
        "print(classification_report(y_true=y_tst,y_pred = y_pred1))"
      ],
      "execution_count": 0,
      "outputs": []
    },
    {
      "cell_type": "code",
      "metadata": {
        "id": "uAK3LI0tBS8L",
        "colab_type": "code",
        "outputId": "6648eeda-7b12-4545-d43f-d8a7cfdf6063",
        "colab": {
          "base_uri": "https://localhost:8080/",
          "height": 140
        }
      },
      "source": [
        "from xgboost import XGBClassifier\n",
        "model = XGBClassifier(max_depth  = 8, base_score = 0.5,learning_rate = 0.2)\n",
        "model.fit(X_train, y_train)"
      ],
      "execution_count": 0,
      "outputs": [
        {
          "output_type": "execute_result",
          "data": {
            "text/plain": [
              "XGBClassifier(base_score=0.5, booster='gbtree', colsample_bylevel=1,\n",
              "              colsample_bynode=1, colsample_bytree=1, gamma=0,\n",
              "              learning_rate=0.2, max_delta_step=0, max_depth=8,\n",
              "              min_child_weight=1, missing=None, n_estimators=100, n_jobs=1,\n",
              "              nthread=None, objective='binary:logistic', random_state=0,\n",
              "              reg_alpha=0, reg_lambda=1, scale_pos_weight=1, seed=None,\n",
              "              silent=None, subsample=1, verbosity=1)"
            ]
          },
          "metadata": {
            "tags": []
          },
          "execution_count": 15
        }
      ]
    },
    {
      "cell_type": "code",
      "metadata": {
        "id": "80w0jv0eD0t5",
        "colab_type": "code",
        "outputId": "04105830-3cde-4f06-b25f-786879c02883",
        "colab": {
          "base_uri": "https://localhost:8080/",
          "height": 210
        }
      },
      "source": [
        "from sklearn.metrics import accuracy_score\n",
        "print(model.score(X_test, y_test, sample_weight=None))\n",
        "y_pred = model.predict(X_test)\n",
        "accuracy = accuracy_score(y_test, y_pred)\n",
        "print(\"Accuracy: %.2f%%\" % (accuracy * 100.0))\n",
        "from sklearn.metrics import classification_report\n",
        "y_pred1 = model.predict(X_test)\n",
        "print(classification_report(y_true=y_test,y_pred = y_pred1))"
      ],
      "execution_count": 0,
      "outputs": [
        {
          "output_type": "stream",
          "text": [
            "0.8317762901547121\n",
            "Accuracy: 83.18%\n",
            "              precision    recall  f1-score   support\n",
            "\n",
            "           0       0.77      0.94      0.85    483269\n",
            "           1       0.93      0.72      0.81    484270\n",
            "\n",
            "    accuracy                           0.83    967539\n",
            "   macro avg       0.85      0.83      0.83    967539\n",
            "weighted avg       0.85      0.83      0.83    967539\n",
            "\n"
          ],
          "name": "stdout"
        }
      ]
    },
    {
      "cell_type": "code",
      "metadata": {
        "id": "0yhTms9xYOkm",
        "colab_type": "code",
        "colab": {}
      },
      "source": [
        ""
      ],
      "execution_count": 0,
      "outputs": []
    }
  ]
}