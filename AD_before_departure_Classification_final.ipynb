{
  "nbformat": 4,
  "nbformat_minor": 0,
  "metadata": {
    "colab": {
      "name": "AD_before_departure_Classification_final.ipynb",
      "version": "0.3.2",
      "provenance": [],
      "collapsed_sections": []
    },
    "kernelspec": {
      "name": "python3",
      "display_name": "Python 3"
    },
    "accelerator": "GPU"
  },
  "cells": [
    {
      "cell_type": "code",
      "metadata": {
        "id": "jwCGnB7dWKUt",
        "colab_type": "code",
        "outputId": "8b04cd0c-be26-4eca-f40e-e6945810aa43",
        "colab": {
          "base_uri": "https://localhost:8080/",
          "height": 72
        }
      },
      "source": [
        "import numpy as np\n",
        "import pandas as pd\n",
        "from imblearn.over_sampling import RandomOverSampler as ROS\n",
        "from imblearn.over_sampling import SMOTE as SMO"
      ],
      "execution_count": 0,
      "outputs": [
        {
          "output_type": "stream",
          "text": [
            "/usr/local/lib/python3.6/dist-packages/sklearn/externals/six.py:31: DeprecationWarning: The module is deprecated in version 0.21 and will be removed in version 0.23 since we've dropped support for Python 2.7. Please rely on the official version of six (https://pypi.org/project/six/).\n",
            "  \"(https://pypi.org/project/six/).\", DeprecationWarning)\n"
          ],
          "name": "stderr"
        }
      ]
    },
    {
      "cell_type": "code",
      "metadata": {
        "id": "A_s-SEe7Wart",
        "colab_type": "code",
        "outputId": "0f8956dc-c870-4fc7-d201-6befc2a496e7",
        "colab": {
          "base_uri": "https://localhost:8080/",
          "height": 125
        }
      },
      "source": [
        "from google.colab import drive\n",
        "drive.mount('/content/gdrive')\n"
      ],
      "execution_count": 0,
      "outputs": [
        {
          "output_type": "stream",
          "text": [
            "Go to this URL in a browser: https://accounts.google.com/o/oauth2/auth?client_id=947318989803-6bn6qk8qdgf4n4g3pfee6491hc0brc4i.apps.googleusercontent.com&redirect_uri=urn%3Aietf%3Awg%3Aoauth%3A2.0%3Aoob&scope=email%20https%3A%2F%2Fwww.googleapis.com%2Fauth%2Fdocs.test%20https%3A%2F%2Fwww.googleapis.com%2Fauth%2Fdrive%20https%3A%2F%2Fwww.googleapis.com%2Fauth%2Fdrive.photos.readonly%20https%3A%2F%2Fwww.googleapis.com%2Fauth%2Fpeopleapi.readonly&response_type=code\n",
            "\n",
            "Enter your authorization code:\n",
            "··········\n",
            "Mounted at /content/gdrive\n"
          ],
          "name": "stdout"
        }
      ]
    },
    {
      "cell_type": "code",
      "metadata": {
        "id": "CcUi-KGjWjMB",
        "colab_type": "code",
        "colab": {}
      },
      "source": [
        "train =pd.read_csv('/content/gdrive/My Drive/ML/Training_x.csv',sep='\\t', encoding='utf-8')\n",
        "test = pd.read_csv('/content/gdrive/My Drive/ML/Testing_x.csv',sep='\\t', encoding='utf-8')\n"
      ],
      "execution_count": 0,
      "outputs": []
    },
    {
      "cell_type": "code",
      "metadata": {
        "id": "jAszDh-eAD8c",
        "colab_type": "code",
        "colab": {}
      },
      "source": [
        "data = pd.concat([train,test],axis = 0)\n",
        "data = data.reset_index()\n",
        "data = data.drop(columns = ['index'])"
      ],
      "execution_count": 0,
      "outputs": []
    },
    {
      "cell_type": "code",
      "metadata": {
        "id": "k3i5zdT9WmUn",
        "colab_type": "code",
        "colab": {}
      },
      "source": [
        "\n",
        "data['ArrDelay'] = 0\n",
        "\n",
        "def func(row):\n",
        "    if row['ArrDel15']>0:# consider 15\n",
        "        return 1\n",
        "    else:\n",
        "        return 0\n",
        "data['ArrDelay'] = data.apply(func, axis=1)"
      ],
      "execution_count": 0,
      "outputs": []
    },
    {
      "cell_type": "code",
      "metadata": {
        "id": "bLiS-OPtYPMJ",
        "colab_type": "code",
        "colab": {}
      },
      "source": [
        "x_tr = ['Quarter', 'Month', 'DayofMonth', 'DayOfWeek','CRSArrTime',\n",
        "       'FlightNum', 'Origin', 'DestAirportID', 'Dest','year','DepDelay',\n",
        "       'DewPointC', 'DewPointF', 'FeelsLikeC', 'FeelsLikeF', 'HeatIndexC',\n",
        "       'HeatIndexF', 'WindChillC', 'WindChillF', 'WindGustKmph',\n",
        "       'WindGustMiles', 'cloudcover', 'humidity', 'precipMM', 'pressure',\n",
        "       'tempC', 'tempF', 'time', 'visibility', 'weatherCode', 'winddir16Point',\n",
        "       'winddirDegree', 'windspeedKmph', 'windspeedMiles']\n",
        "X= data[x_tr]\n",
        "x_val = data[x_tr].iloc[:,:].values"
      ],
      "execution_count": 0,
      "outputs": []
    },
    {
      "cell_type": "code",
      "metadata": {
        "id": "oRSUMxua5D-7",
        "colab_type": "code",
        "outputId": "ec2718ef-6efe-4a84-af03-58c857fe997c",
        "colab": {
          "base_uri": "https://localhost:8080/",
          "height": 52
        }
      },
      "source": [
        "train['Origin'].unique()"
      ],
      "execution_count": 0,
      "outputs": [
        {
          "output_type": "execute_result",
          "data": {
            "text/plain": [
              "array(['PHX', 'ATL', 'DEN', 'LAX', 'CLT', 'ORD', 'JFK', 'LAS', 'MCO',\n",
              "       'DFW', 'MIA', 'EWR', 'IAH', 'SEA', 'SFO'], dtype=object)"
            ]
          },
          "metadata": {
            "tags": []
          },
          "execution_count": 8
        }
      ]
    },
    {
      "cell_type": "code",
      "metadata": {
        "id": "unBtcmQYYPhK",
        "colab_type": "code",
        "outputId": "95e7f919-ebd2-40b5-a95a-5e75b3255e88",
        "colab": {
          "base_uri": "https://localhost:8080/",
          "height": 72
        }
      },
      "source": [
        "from sklearn.preprocessing import LabelEncoder, OneHotEncoder\n",
        "enc  = LabelEncoder()\n",
        "enc.fit(x_val[:,8].reshape(-1, 1) )\n",
        "c1=['d1']\n",
        "temp = pd.DataFrame(enc.transform(x_val[:,6]),columns = c1)\n",
        "X = pd.concat([X,temp],axis=1)\n",
        "X = X.drop(columns = ['Origin'])\n",
        "c2=['a1']\n",
        "temp = pd.DataFrame(enc.transform(x_val[:,8]),columns = c2)\n",
        "X = pd.concat([X,temp],axis=1)\n",
        "X = X.drop(columns = ['Dest'])\n",
        "X = X.drop(columns = ['winddir16Point'])\n",
        "X = X.drop(columns = ['DewPointF','FeelsLikeC','FeelsLikeF','HeatIndexF','WindChillF','WindGustMiles','tempF','windspeedMiles','Quarter'])\n",
        "x_val = X.iloc[:,:].values\n",
        "y = data['ArrDelay']\n",
        "y_val  = y.iloc[:].values"
      ],
      "execution_count": 0,
      "outputs": [
        {
          "output_type": "stream",
          "text": [
            "/usr/local/lib/python3.6/dist-packages/sklearn/preprocessing/label.py:219: DataConversionWarning: A column-vector y was passed when a 1d array was expected. Please change the shape of y to (n_samples, ), for example using ravel().\n",
            "  y = column_or_1d(y, warn=True)\n"
          ],
          "name": "stderr"
        }
      ]
    },
    {
      "cell_type": "code",
      "metadata": {
        "id": "mnUXBcsLWs43",
        "colab_type": "code",
        "colab": {}
      },
      "source": [
        "sampler = SMO()\n",
        "X,y =  sampler.fit_resample(x_val,y_val)"
      ],
      "execution_count": 0,
      "outputs": []
    },
    {
      "cell_type": "code",
      "metadata": {
        "id": "ES9OYoduOLtM",
        "colab_type": "code",
        "colab": {}
      },
      "source": [
        "from sklearn.model_selection import train_test_split \n",
        "X_train, X_test, y_train, y_test = train_test_split(X, y, test_size=0.33, random_state=42)"
      ],
      "execution_count": 0,
      "outputs": []
    },
    {
      "cell_type": "code",
      "metadata": {
        "id": "J_RTPzpqON54",
        "colab_type": "code",
        "colab": {}
      },
      "source": [
        "from sklearn.model_selection import train_test_split \n",
        "X_train1, X_test1, y_train1, y_test1 = train_test_split(x_val, y_val, test_size=0.33, random_state=42)\n",
        "sampler = SMO()\n",
        "X_train1,y_train1 =  sampler.fit_resample(X_train1,y_train1)"
      ],
      "execution_count": 0,
      "outputs": []
    },
    {
      "cell_type": "code",
      "metadata": {
        "id": "DYqgFN1CZLgv",
        "colab_type": "code",
        "outputId": "797d04ad-c87c-4a58-ff7c-d34233881682",
        "colab": {
          "base_uri": "https://localhost:8080/",
          "height": 160
        }
      },
      "source": [
        "from sklearn.ensemble import RandomForestClassifier\n",
        "classifier2 = RandomForestClassifier(n_estimators=10)\n",
        "classifier2.fit(X_train1,y_train1)"
      ],
      "execution_count": 0,
      "outputs": [
        {
          "output_type": "execute_result",
          "data": {
            "text/plain": [
              "RandomForestClassifier(bootstrap=True, class_weight=None, criterion='gini',\n",
              "                       max_depth=None, max_features='auto', max_leaf_nodes=None,\n",
              "                       min_impurity_decrease=0.0, min_impurity_split=None,\n",
              "                       min_samples_leaf=1, min_samples_split=2,\n",
              "                       min_weight_fraction_leaf=0.0, n_estimators=10,\n",
              "                       n_jobs=None, oob_score=False, random_state=None,\n",
              "                       verbose=0, warm_start=False)"
            ]
          },
          "metadata": {
            "tags": []
          },
          "execution_count": 28
        }
      ]
    },
    {
      "cell_type": "code",
      "metadata": {
        "id": "Hcq7HZrLZiti",
        "colab_type": "code",
        "outputId": "ea06d340-8047-4f14-e18f-c53a671ca272",
        "colab": {
          "base_uri": "https://localhost:8080/",
          "height": 193
        }
      },
      "source": [
        "print(classifier2.score(X_test1, y_test1, sample_weight=None))\n",
        "from sklearn.metrics import classification_report\n",
        "y_pred = classifier2.predict(X_test1)\n",
        "print(classification_report(y_true=y_test1,y_pred = y_pred))"
      ],
      "execution_count": 0,
      "outputs": [
        {
          "output_type": "stream",
          "text": [
            "0.912112169668851\n",
            "              precision    recall  f1-score   support\n",
            "\n",
            "           0       0.93      0.97      0.95    478057\n",
            "           1       0.85      0.71      0.77    127169\n",
            "\n",
            "    accuracy                           0.91    605226\n",
            "   macro avg       0.89      0.84      0.86    605226\n",
            "weighted avg       0.91      0.91      0.91    605226\n",
            "\n"
          ],
          "name": "stdout"
        }
      ]
    },
    {
      "cell_type": "code",
      "metadata": {
        "id": "z0b4tVraOwPY",
        "colab_type": "code",
        "outputId": "7c1b532d-1f2e-480a-869c-35316ea81e3f",
        "colab": {
          "base_uri": "https://localhost:8080/",
          "height": 193
        }
      },
      "source": [
        "from sklearn.ensemble import RandomForestClassifier\n",
        "classifier2 = RandomForestClassifier(n_estimators=10)\n",
        "classifier2.fit(X_train,y_train)\n",
        "print(classifier2.score(X_test, y_test, sample_weight=None))\n",
        "from sklearn.metrics import classification_report\n",
        "y_pred = classifier2.predict(X_test)\n",
        "print(classification_report(y_true=y_test,y_pred = y_pred))"
      ],
      "execution_count": 0,
      "outputs": [
        {
          "output_type": "stream",
          "text": [
            "0.9386535964928785\n",
            "              precision    recall  f1-score   support\n",
            "\n",
            "           0       0.92      0.96      0.94    478354\n",
            "           1       0.96      0.91      0.94    478328\n",
            "\n",
            "    accuracy                           0.94    956682\n",
            "   macro avg       0.94      0.94      0.94    956682\n",
            "weighted avg       0.94      0.94      0.94    956682\n",
            "\n"
          ],
          "name": "stdout"
        }
      ]
    },
    {
      "cell_type": "code",
      "metadata": {
        "id": "ClOg7-Ao8krM",
        "colab_type": "code",
        "outputId": "c92080f0-0a2f-4587-8841-8fea72411d79",
        "colab": {
          "base_uri": "https://localhost:8080/",
          "height": 213
        }
      },
      "source": [
        "from sklearn.ensemble import GradientBoostingClassifier as GBC\n",
        "classifier3 = GBC(n_estimators= 30)\n",
        "classifier3.fit(X_train1,y_train1)"
      ],
      "execution_count": 0,
      "outputs": [
        {
          "output_type": "execute_result",
          "data": {
            "text/plain": [
              "GradientBoostingClassifier(criterion='friedman_mse', init=None,\n",
              "                           learning_rate=0.1, loss='deviance', max_depth=3,\n",
              "                           max_features=None, max_leaf_nodes=None,\n",
              "                           min_impurity_decrease=0.0, min_impurity_split=None,\n",
              "                           min_samples_leaf=1, min_samples_split=2,\n",
              "                           min_weight_fraction_leaf=0.0, n_estimators=30,\n",
              "                           n_iter_no_change=None, presort='auto',\n",
              "                           random_state=None, subsample=1.0, tol=0.0001,\n",
              "                           validation_fraction=0.1, verbose=0,\n",
              "                           warm_start=False)"
            ]
          },
          "metadata": {
            "tags": []
          },
          "execution_count": 31
        }
      ]
    },
    {
      "cell_type": "code",
      "metadata": {
        "id": "gGxslpat9Db0",
        "colab_type": "code",
        "outputId": "445833fc-42f5-4905-93c5-35e8d6e92710",
        "colab": {
          "base_uri": "https://localhost:8080/",
          "height": 193
        }
      },
      "source": [
        "print(classifier3.score(X_test1, y_test1, sample_weight=None))\n",
        "from sklearn.metrics import classification_report\n",
        "y_pred1 = classifier3.predict(X_test1)\n",
        "print(classification_report(y_true=y_test1,y_pred = y_pred1))"
      ],
      "execution_count": 0,
      "outputs": [
        {
          "output_type": "stream",
          "text": [
            "0.8952110451302489\n",
            "              precision    recall  f1-score   support\n",
            "\n",
            "           0       0.94      0.93      0.93    478057\n",
            "           1       0.74      0.78      0.76    127169\n",
            "\n",
            "    accuracy                           0.90    605226\n",
            "   macro avg       0.84      0.85      0.84    605226\n",
            "weighted avg       0.90      0.90      0.90    605226\n",
            "\n"
          ],
          "name": "stdout"
        }
      ]
    },
    {
      "cell_type": "code",
      "metadata": {
        "id": "NbRXas2AP0f9",
        "colab_type": "code",
        "outputId": "92cc9714-cb99-4a30-bdc8-46345bee9504",
        "colab": {
          "base_uri": "https://localhost:8080/",
          "height": 193
        }
      },
      "source": [
        "classifier3 = GBC(n_estimators= 30)\n",
        "classifier3.fit(X_train,y_train)\n",
        "print(classifier3.score(X_test, y_test, sample_weight=None))\n",
        "from sklearn.metrics import classification_report\n",
        "y_pred1 = classifier3.predict(X_test)\n",
        "print(classification_report(y_true=y_test,y_pred = y_pred))"
      ],
      "execution_count": 0,
      "outputs": [
        {
          "output_type": "stream",
          "text": [
            "0.8955075981360577\n",
            "              precision    recall  f1-score   support\n",
            "\n",
            "           0       0.92      0.96      0.94    478354\n",
            "           1       0.96      0.91      0.94    478328\n",
            "\n",
            "    accuracy                           0.94    956682\n",
            "   macro avg       0.94      0.94      0.94    956682\n",
            "weighted avg       0.94      0.94      0.94    956682\n",
            "\n"
          ],
          "name": "stdout"
        }
      ]
    },
    {
      "cell_type": "code",
      "metadata": {
        "id": "hFV6rX8W-hzT",
        "colab_type": "code",
        "outputId": "c66c56db-ad2f-4d85-8808-7309374d44ab",
        "colab": {
          "base_uri": "https://localhost:8080/",
          "height": 160
        }
      },
      "source": [
        "from sklearn.ensemble import ExtraTreesClassifier as ETC\n",
        "classifier4 = ETC(n_estimators = 30)\n",
        "classifier4.fit(X_train1,y_train1)"
      ],
      "execution_count": 0,
      "outputs": [
        {
          "output_type": "execute_result",
          "data": {
            "text/plain": [
              "ExtraTreesClassifier(bootstrap=False, class_weight=None, criterion='gini',\n",
              "                     max_depth=None, max_features='auto', max_leaf_nodes=None,\n",
              "                     min_impurity_decrease=0.0, min_impurity_split=None,\n",
              "                     min_samples_leaf=1, min_samples_split=2,\n",
              "                     min_weight_fraction_leaf=0.0, n_estimators=30, n_jobs=None,\n",
              "                     oob_score=False, random_state=None, verbose=0,\n",
              "                     warm_start=False)"
            ]
          },
          "metadata": {
            "tags": []
          },
          "execution_count": 34
        }
      ]
    },
    {
      "cell_type": "code",
      "metadata": {
        "id": "H9TNTl9X-3f0",
        "colab_type": "code",
        "outputId": "725ad6b8-8eb5-485d-bf1a-4c49f2a8218c",
        "colab": {
          "base_uri": "https://localhost:8080/",
          "height": 193
        }
      },
      "source": [
        "print(classifier4.score(X_test1, y_test1, sample_weight=None))\n",
        "from sklearn.metrics import classification_report\n",
        "y_pred1 = classifier4.predict(X_test1)\n",
        "print(classification_report(y_true=y_test1,y_pred = y_pred1))"
      ],
      "execution_count": 0,
      "outputs": [
        {
          "output_type": "stream",
          "text": [
            "0.9020663355506868\n",
            "              precision    recall  f1-score   support\n",
            "\n",
            "           0       0.91      0.97      0.94    478057\n",
            "           1       0.84      0.66      0.74    127169\n",
            "\n",
            "    accuracy                           0.90    605226\n",
            "   macro avg       0.88      0.81      0.84    605226\n",
            "weighted avg       0.90      0.90      0.90    605226\n",
            "\n"
          ],
          "name": "stdout"
        }
      ]
    },
    {
      "cell_type": "code",
      "metadata": {
        "id": "ULQVuY6iQhU2",
        "colab_type": "code",
        "outputId": "0b0ef97f-90b3-4abc-afb5-6adf351b3884",
        "colab": {
          "base_uri": "https://localhost:8080/",
          "height": 193
        }
      },
      "source": [
        "from sklearn.ensemble import ExtraTreesClassifier as ETC\n",
        "classifier4 = ETC(n_estimators = 30)\n",
        "classifier4.fit(X_train,y_train)\n",
        "print(classifier4.score(X_test, y_test, sample_weight=None))\n",
        "from sklearn.metrics import classification_report\n",
        "y_pred1 = classifier4.predict(X_test)\n",
        "print(classification_report(y_true=y_test,y_pred = y_pred1))"
      ],
      "execution_count": 0,
      "outputs": [
        {
          "output_type": "stream",
          "text": [
            "0.9428096274415114\n",
            "              precision    recall  f1-score   support\n",
            "\n",
            "           0       0.92      0.97      0.94    478354\n",
            "           1       0.96      0.92      0.94    478328\n",
            "\n",
            "    accuracy                           0.94    956682\n",
            "   macro avg       0.94      0.94      0.94    956682\n",
            "weighted avg       0.94      0.94      0.94    956682\n",
            "\n"
          ],
          "name": "stdout"
        }
      ]
    },
    {
      "cell_type": "code",
      "metadata": {
        "id": "1Mx0yQRLAPyJ",
        "colab_type": "code",
        "outputId": "b6ce9f22-2902-4b81-ecc4-7c2170b4bef6",
        "colab": {
          "base_uri": "https://localhost:8080/",
          "height": 72
        }
      },
      "source": [
        "from sklearn import svm\n",
        "classifier5 = svm.SVC()\n",
        "classifier5.fit(X_train1,y_train1)"
      ],
      "execution_count": 0,
      "outputs": [
        {
          "output_type": "stream",
          "text": [
            "/usr/local/lib/python3.6/dist-packages/sklearn/svm/base.py:193: FutureWarning: The default value of gamma will change from 'auto' to 'scale' in version 0.22 to account better for unscaled features. Set gamma explicitly to 'auto' or 'scale' to avoid this warning.\n",
            "  \"avoid this warning.\", FutureWarning)\n"
          ],
          "name": "stderr"
        }
      ]
    },
    {
      "cell_type": "code",
      "metadata": {
        "id": "4pn8mROyAq-9",
        "colab_type": "code",
        "colab": {}
      },
      "source": [
        "print(classifier5.score(X_test1, y_test1, sample_weight=None))\n",
        "from sklearn.metrics import classification_report\n",
        "y_pred1 = classifier5.predict(X_test1)\n",
        "print(classification_report(y_true=y_test1,y_pred = y_pred1))"
      ],
      "execution_count": 0,
      "outputs": []
    },
    {
      "cell_type": "code",
      "metadata": {
        "id": "MGUDid-mQ-2v",
        "colab_type": "code",
        "colab": {}
      },
      "source": [
        "from sklearn import svm\n",
        "classifier5 = svm.SVC()\n",
        "classifier5.fit(X_train,y_train)\n",
        "print(classifier5.score(X_test, y_test, sample_weight=None))\n",
        "from sklearn.metrics import classification_report\n",
        "y_pred1 = classifier5.predict(X_test)\n",
        "print(classification_report(y_true=y_test,y_pred = y_pred1))"
      ],
      "execution_count": 0,
      "outputs": []
    },
    {
      "cell_type": "code",
      "metadata": {
        "id": "uAK3LI0tBS8L",
        "colab_type": "code",
        "outputId": "2c76e44f-f256-4268-d7e7-5ed3c56d1516",
        "colab": {
          "base_uri": "https://localhost:8080/",
          "height": 140
        }
      },
      "source": [
        "from xgboost import XGBClassifier\n",
        "model = XGBClassifier(max_depth  = 8, base_score = 0.5,learning_rate = 0.2)\n",
        "model.fit(X_train1, y_train1)"
      ],
      "execution_count": 0,
      "outputs": [
        {
          "output_type": "execute_result",
          "data": {
            "text/plain": [
              "XGBClassifier(base_score=0.5, booster='gbtree', colsample_bylevel=1,\n",
              "              colsample_bynode=1, colsample_bytree=1, gamma=0,\n",
              "              learning_rate=0.2, max_delta_step=0, max_depth=8,\n",
              "              min_child_weight=1, missing=None, n_estimators=100, n_jobs=1,\n",
              "              nthread=None, objective='binary:logistic', random_state=0,\n",
              "              reg_alpha=0, reg_lambda=1, scale_pos_weight=1, seed=None,\n",
              "              silent=None, subsample=1, verbosity=1)"
            ]
          },
          "metadata": {
            "tags": []
          },
          "execution_count": 12
        }
      ]
    },
    {
      "cell_type": "code",
      "metadata": {
        "id": "80w0jv0eD0t5",
        "colab_type": "code",
        "outputId": "974439bc-ccd9-4b34-b188-3f0467d5f106",
        "colab": {
          "base_uri": "https://localhost:8080/",
          "height": 193
        }
      },
      "source": [
        "from sklearn.metrics import accuracy_score\n",
        "y_pred = model.predict(X_test1)\n",
        "accuracy = accuracy_score(y_test1, y_pred)\n",
        "from sklearn.metrics import classification_report\n",
        "print(\"Accuracy: %.2f%%\" % (accuracy * 100.0))\n",
        "y_pred1 = model.predict(X_test1)\n",
        "print(classification_report(y_true=y_test1,y_pred = y_pred1))"
      ],
      "execution_count": 0,
      "outputs": [
        {
          "output_type": "stream",
          "text": [
            "Accuracy: 90.43%\n",
            "              precision    recall  f1-score   support\n",
            "\n",
            "           0       0.94      0.94      0.94    478057\n",
            "           1       0.78      0.75      0.77    127169\n",
            "\n",
            "    accuracy                           0.90    605226\n",
            "   macro avg       0.86      0.85      0.85    605226\n",
            "weighted avg       0.90      0.90      0.90    605226\n",
            "\n"
          ],
          "name": "stdout"
        }
      ]
    },
    {
      "cell_type": "code",
      "metadata": {
        "id": "mxZ4ObKRT7vC",
        "colab_type": "code",
        "outputId": "4306d77d-93d6-445b-f0c1-755f63e319a6",
        "colab": {
          "base_uri": "https://localhost:8080/",
          "height": 193
        }
      },
      "source": [
        "from xgboost import XGBClassifier\n",
        "model = XGBClassifier(max_depth  = 8, base_score = 0.5,learning_rate = 0.2)\n",
        "model.fit(X_train, y_train)\n",
        "from sklearn.metrics import accuracy_score\n",
        "y_pred = model.predict(X_test)\n",
        "accuracy = accuracy_score(y_test, y_pred)\n",
        "print(\"Accuracy: %.2f%%\" % (accuracy * 100.0))\n",
        "y_pred1 = model.predict(X_test)\n",
        "print(classification_report(y_true=y_test,y_pred = y_pred))"
      ],
      "execution_count": 0,
      "outputs": [
        {
          "output_type": "stream",
          "text": [
            "Accuracy: 94.13%\n",
            "              precision    recall  f1-score   support\n",
            "\n",
            "           0       0.92      0.96      0.94    478354\n",
            "           1       0.96      0.92      0.94    478328\n",
            "\n",
            "    accuracy                           0.94    956682\n",
            "   macro avg       0.94      0.94      0.94    956682\n",
            "weighted avg       0.94      0.94      0.94    956682\n",
            "\n"
          ],
          "name": "stdout"
        }
      ]
    },
    {
      "cell_type": "code",
      "metadata": {
        "id": "hNQfPS-iSO0_",
        "colab_type": "code",
        "colab": {}
      },
      "source": [
        ""
      ],
      "execution_count": 0,
      "outputs": []
    },
    {
      "cell_type": "code",
      "metadata": {
        "id": "ickaj2aiSf3z",
        "colab_type": "code",
        "colab": {}
      },
      "source": [
        ""
      ],
      "execution_count": 0,
      "outputs": []
    }
  ]
}